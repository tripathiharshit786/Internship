{
 "cells": [
  {
   "cell_type": "markdown",
   "id": "290161a9",
   "metadata": {},
   "source": [
    "# ASIGNMENT-2 Web Scraping"
   ]
  },
  {
   "cell_type": "markdown",
   "id": "fd9aeeab",
   "metadata": {},
   "source": [
    "Q1: Write a python program to scrape data for “Data Analyst” Job position in “Bangalore” location. You\n",
    "have to scrape the job-title, job-location, company_name, experience_required. You have to scrape first 10\n",
    "jobs data.\n",
    "This task will be done in following steps:\n",
    "    \n",
    "1. First get the webpage https://www.naukri.com/\n",
    "\n",
    "2. Enter “Data Analyst” in “Skill, Designations, Companies” field and enter “Bangalore” in “enter the\n",
    "location” field.\n",
    "\n",
    "3. Then click the searchbutton.\n",
    "\n",
    "4. Then scrape the data for the first 10 jobs results you get.\n",
    "\n",
    "5. Finally create a dataframe of the scraped data."
   ]
  },
  {
   "cell_type": "code",
   "execution_count": 1,
   "id": "c44c91d2",
   "metadata": {},
   "outputs": [],
   "source": [
    "#Import all necessary libraries\n",
    "\n",
    "import selenium\n",
    "from selenium import webdriver\n",
    "from selenium.common.exceptions import StaleElementReferenceException, NoSuchElementException\n",
    "from selenium.webdriver.common.by import By\n",
    "import pandas as pd\n",
    "import warnings\n",
    "warnings.filterwarnings('ignore')\n",
    "import time"
   ]
  },
  {
   "cell_type": "code",
   "execution_count": 3,
   "id": "c8b89ffd",
   "metadata": {},
   "outputs": [],
   "source": [
    "#Connecting to the driver\n",
    "driver=webdriver.Chrome(r\"chromedriver.exe\")"
   ]
  },
  {
   "cell_type": "code",
   "execution_count": 4,
   "id": "d34b85d2",
   "metadata": {},
   "outputs": [],
   "source": [
    "#opening the naukri page on automated chrome browser\n",
    "driver.get('https://www.naukri.com/')"
   ]
  },
  {
   "cell_type": "code",
   "execution_count": 5,
   "id": "135b8f44",
   "metadata": {},
   "outputs": [],
   "source": [
    "#entering designation and location as required in the question-\n",
    "\n",
    "designation=driver.find_element(By.CLASS_NAME,'suggestor-input')\n",
    "designation.send_keys('Data Analyst')"
   ]
  },
  {
   "cell_type": "code",
   "execution_count": 6,
   "id": "607b8875",
   "metadata": {},
   "outputs": [],
   "source": [
    "location=driver.find_element(By.XPATH,'/html/body/div[1]/div[6]/div/div/div[5]/div/div/div/input')\n",
    "location.send_keys('Bangalore')"
   ]
  },
  {
   "cell_type": "code",
   "execution_count": 7,
   "id": "94c894d9",
   "metadata": {},
   "outputs": [],
   "source": [
    "search=driver.find_element(By.CLASS_NAME,\"qsbSubmit\")\n",
    "search.click()"
   ]
  },
  {
   "cell_type": "code",
   "execution_count": 8,
   "id": "20870183",
   "metadata": {},
   "outputs": [],
   "source": [
    "#Creating all the necessary list \n",
    "job_title=[]\n",
    "job_location=[]\n",
    "company_name=[]\n",
    "experience_Required=[]"
   ]
  },
  {
   "cell_type": "code",
   "execution_count": 9,
   "id": "56168b4c",
   "metadata": {},
   "outputs": [
    {
     "data": {
      "text/plain": [
       "['Data Analyst- Yulu Energy',\n",
       " 'Data Analyst',\n",
       " 'Data Analyst',\n",
       " 'Data Analyst',\n",
       " 'Required Data Analyst Off Role',\n",
       " 'Data Analyst',\n",
       " 'Data Analyst',\n",
       " 'Data Analyst',\n",
       " 'Data Analyst',\n",
       " 'Data Analyst Databricks']"
      ]
     },
     "execution_count": 9,
     "metadata": {},
     "output_type": "execute_result"
    }
   ],
   "source": [
    "#scraping job title from the given page\n",
    "title_tags=driver.find_elements(By.XPATH,'//a[@class=\"title ellipsis\"]')\n",
    "for i in title_tags[0:10]:\n",
    "    title=i.text\n",
    "    job_title.append(title)\n",
    "    \n",
    "job_title"
   ]
  },
  {
   "cell_type": "code",
   "execution_count": 10,
   "id": "561a754b",
   "metadata": {},
   "outputs": [
    {
     "data": {
      "text/plain": [
       "['Bangalore/Bengaluru',\n",
       " 'Bangalore/Bengaluru',\n",
       " 'Hybrid - Bangalore/Bengaluru, Hyderabad/Secunderabad, Pune, Delhi / NCR, Mumbai (All Areas)',\n",
       " 'Hybrid - Bangalore/Bengaluru',\n",
       " 'Bangalore/Bengaluru',\n",
       " 'Bangalore/Bengaluru',\n",
       " 'Bangalore/Bengaluru',\n",
       " 'Bangalore/Bengaluru',\n",
       " 'Bangalore/Bengaluru',\n",
       " 'Bangalore/Bengaluru']"
      ]
     },
     "execution_count": 10,
     "metadata": {},
     "output_type": "execute_result"
    }
   ],
   "source": [
    "#scraping job location from the given page\n",
    "location_tags=driver.find_elements(By.XPATH,'//span[@class=\"ellipsis fleft locWdth\"]')\n",
    "for i in location_tags[0:10]:\n",
    "    location=i.text\n",
    "    job_location.append(location)\n",
    "    \n",
    "job_location"
   ]
  },
  {
   "cell_type": "code",
   "execution_count": 11,
   "id": "903b20a4",
   "metadata": {},
   "outputs": [
    {
     "data": {
      "text/plain": [
       "['Yulu Bikes',\n",
       " 'Entrupy',\n",
       " 'EY',\n",
       " 'Allegis Group',\n",
       " 'TeamLease',\n",
       " 'Staffice Global',\n",
       " 'What Digital Technologies',\n",
       " 'Course5 Intelligence',\n",
       " 'FresherMart',\n",
       " 'Optum']"
      ]
     },
     "execution_count": 11,
     "metadata": {},
     "output_type": "execute_result"
    }
   ],
   "source": [
    "#scraping company name from the given page\n",
    "company_tags=driver.find_elements(By.XPATH,'//a[@class=\"subTitle ellipsis fleft\"]')\n",
    "for i in company_tags[0:10]:\n",
    "    company=i.text\n",
    "    company_name.append(company)\n",
    "    \n",
    "company_name"
   ]
  },
  {
   "cell_type": "code",
   "execution_count": 12,
   "id": "52016dec",
   "metadata": {},
   "outputs": [
    {
     "data": {
      "text/plain": [
       "['0-1 Yrs',\n",
       " '1-3 Yrs',\n",
       " '5-10 Yrs',\n",
       " '4-7 Yrs',\n",
       " '3-5 Yrs',\n",
       " '14-18 Yrs',\n",
       " '5-10 Yrs',\n",
       " '1-2 Yrs',\n",
       " '2-3 Yrs',\n",
       " '4-6 Yrs']"
      ]
     },
     "execution_count": 12,
     "metadata": {},
     "output_type": "execute_result"
    }
   ],
   "source": [
    "#scraping job experience from the given page\n",
    "experience_tags=driver.find_elements(By.XPATH,'//span[@class=\"ellipsis fleft expwdth\"]')\n",
    "for i in experience_tags[0:10]:\n",
    "    experience=i.text\n",
    "    experience_Required.append(experience)\n",
    "    \n",
    "experience_Required"
   ]
  },
  {
   "cell_type": "code",
   "execution_count": 13,
   "id": "c3ee69bc",
   "metadata": {},
   "outputs": [
    {
     "name": "stdout",
     "output_type": "stream",
     "text": [
      "10 10 10 10\n"
     ]
    }
   ],
   "source": [
    "print(len(job_title),len(job_location),len(company_name),len(experience_Required))"
   ]
  },
  {
   "cell_type": "code",
   "execution_count": 14,
   "id": "55e7372b",
   "metadata": {},
   "outputs": [
    {
     "data": {
      "text/html": [
       "<div>\n",
       "<style scoped>\n",
       "    .dataframe tbody tr th:only-of-type {\n",
       "        vertical-align: middle;\n",
       "    }\n",
       "\n",
       "    .dataframe tbody tr th {\n",
       "        vertical-align: top;\n",
       "    }\n",
       "\n",
       "    .dataframe thead th {\n",
       "        text-align: right;\n",
       "    }\n",
       "</style>\n",
       "<table border=\"1\" class=\"dataframe\">\n",
       "  <thead>\n",
       "    <tr style=\"text-align: right;\">\n",
       "      <th></th>\n",
       "      <th>Title</th>\n",
       "      <th>Location</th>\n",
       "      <th>Company Name</th>\n",
       "      <th>Experience</th>\n",
       "    </tr>\n",
       "  </thead>\n",
       "  <tbody>\n",
       "    <tr>\n",
       "      <th>0</th>\n",
       "      <td>Data Analyst- Yulu Energy</td>\n",
       "      <td>Bangalore/Bengaluru</td>\n",
       "      <td>Yulu Bikes</td>\n",
       "      <td>0-1 Yrs</td>\n",
       "    </tr>\n",
       "    <tr>\n",
       "      <th>1</th>\n",
       "      <td>Data Analyst</td>\n",
       "      <td>Bangalore/Bengaluru</td>\n",
       "      <td>Entrupy</td>\n",
       "      <td>1-3 Yrs</td>\n",
       "    </tr>\n",
       "    <tr>\n",
       "      <th>2</th>\n",
       "      <td>Data Analyst</td>\n",
       "      <td>Hybrid - Bangalore/Bengaluru, Hyderabad/Secund...</td>\n",
       "      <td>EY</td>\n",
       "      <td>5-10 Yrs</td>\n",
       "    </tr>\n",
       "    <tr>\n",
       "      <th>3</th>\n",
       "      <td>Data Analyst</td>\n",
       "      <td>Hybrid - Bangalore/Bengaluru</td>\n",
       "      <td>Allegis Group</td>\n",
       "      <td>4-7 Yrs</td>\n",
       "    </tr>\n",
       "    <tr>\n",
       "      <th>4</th>\n",
       "      <td>Required Data Analyst Off Role</td>\n",
       "      <td>Bangalore/Bengaluru</td>\n",
       "      <td>TeamLease</td>\n",
       "      <td>3-5 Yrs</td>\n",
       "    </tr>\n",
       "    <tr>\n",
       "      <th>5</th>\n",
       "      <td>Data Analyst</td>\n",
       "      <td>Bangalore/Bengaluru</td>\n",
       "      <td>Staffice Global</td>\n",
       "      <td>14-18 Yrs</td>\n",
       "    </tr>\n",
       "    <tr>\n",
       "      <th>6</th>\n",
       "      <td>Data Analyst</td>\n",
       "      <td>Bangalore/Bengaluru</td>\n",
       "      <td>What Digital Technologies</td>\n",
       "      <td>5-10 Yrs</td>\n",
       "    </tr>\n",
       "    <tr>\n",
       "      <th>7</th>\n",
       "      <td>Data Analyst</td>\n",
       "      <td>Bangalore/Bengaluru</td>\n",
       "      <td>Course5 Intelligence</td>\n",
       "      <td>1-2 Yrs</td>\n",
       "    </tr>\n",
       "    <tr>\n",
       "      <th>8</th>\n",
       "      <td>Data Analyst</td>\n",
       "      <td>Bangalore/Bengaluru</td>\n",
       "      <td>FresherMart</td>\n",
       "      <td>2-3 Yrs</td>\n",
       "    </tr>\n",
       "    <tr>\n",
       "      <th>9</th>\n",
       "      <td>Data Analyst Databricks</td>\n",
       "      <td>Bangalore/Bengaluru</td>\n",
       "      <td>Optum</td>\n",
       "      <td>4-6 Yrs</td>\n",
       "    </tr>\n",
       "  </tbody>\n",
       "</table>\n",
       "</div>"
      ],
      "text/plain": [
       "                            Title  \\\n",
       "0       Data Analyst- Yulu Energy   \n",
       "1                    Data Analyst   \n",
       "2                    Data Analyst   \n",
       "3                    Data Analyst   \n",
       "4  Required Data Analyst Off Role   \n",
       "5                    Data Analyst   \n",
       "6                    Data Analyst   \n",
       "7                    Data Analyst   \n",
       "8                    Data Analyst   \n",
       "9         Data Analyst Databricks   \n",
       "\n",
       "                                            Location  \\\n",
       "0                                Bangalore/Bengaluru   \n",
       "1                                Bangalore/Bengaluru   \n",
       "2  Hybrid - Bangalore/Bengaluru, Hyderabad/Secund...   \n",
       "3                       Hybrid - Bangalore/Bengaluru   \n",
       "4                                Bangalore/Bengaluru   \n",
       "5                                Bangalore/Bengaluru   \n",
       "6                                Bangalore/Bengaluru   \n",
       "7                                Bangalore/Bengaluru   \n",
       "8                                Bangalore/Bengaluru   \n",
       "9                                Bangalore/Bengaluru   \n",
       "\n",
       "                Company Name Experience  \n",
       "0                 Yulu Bikes    0-1 Yrs  \n",
       "1                    Entrupy    1-3 Yrs  \n",
       "2                         EY   5-10 Yrs  \n",
       "3              Allegis Group    4-7 Yrs  \n",
       "4                  TeamLease    3-5 Yrs  \n",
       "5            Staffice Global  14-18 Yrs  \n",
       "6  What Digital Technologies   5-10 Yrs  \n",
       "7       Course5 Intelligence    1-2 Yrs  \n",
       "8                FresherMart    2-3 Yrs  \n",
       "9                      Optum    4-6 Yrs  "
      ]
     },
     "execution_count": 14,
     "metadata": {},
     "output_type": "execute_result"
    }
   ],
   "source": [
    "#Creating DataFrame\n",
    "import pandas as pd\n",
    "df=pd.DataFrame({'Title':job_title, 'Location':job_location, 'Company Name':company_name, 'Experience':experience_Required})\n",
    "df"
   ]
  },
  {
   "cell_type": "code",
   "execution_count": null,
   "id": "8b801eac",
   "metadata": {},
   "outputs": [],
   "source": []
  },
  {
   "cell_type": "markdown",
   "id": "cb90e39f",
   "metadata": {},
   "source": [
    "Q2:Write a python program to scrape data for “Data Scientist” Job position in “Bangalore” location. You\n",
    "have to scrape the job-title, job-location, company_name. You have to scrape first 10 jobs data.\n",
    "This task will be done in following steps-\n",
    "\n",
    "1. First get the webpage https://www.naukri.com/\n",
    "\n",
    "2. Enter “Data Scientist” in “Skill, Designations, Companies” field and enter “Bangalore” in “enter the\n",
    "location” field.\n",
    "\n",
    "3. Then click the searchbutton.\n",
    "\n",
    "4. Then scrape the data for the first 10 jobs results youget.\n",
    "\n",
    "5. Finally create a dataframe of the scraped data.\n"
   ]
  },
  {
   "cell_type": "code",
   "execution_count": 15,
   "id": "5359be2e",
   "metadata": {},
   "outputs": [],
   "source": [
    "#Connecting to the driver\n",
    "driver=webdriver.Chrome(r\"chromedriver.exe\")"
   ]
  },
  {
   "cell_type": "code",
   "execution_count": 16,
   "id": "6d2a20db",
   "metadata": {},
   "outputs": [],
   "source": [
    "#opening the naukri page on automated chrome browser\n",
    "driver.get('https://www.naukri.com/')"
   ]
  },
  {
   "cell_type": "code",
   "execution_count": 17,
   "id": "948eaf50",
   "metadata": {},
   "outputs": [],
   "source": [
    "#entering designation and location as required in the question-\n",
    "\n",
    "designation=driver.find_element(By.CLASS_NAME,'suggestor-input')\n",
    "designation.send_keys('Data Scientist')\n",
    "\n",
    "location=driver.find_element(By.XPATH,'/html/body/div[1]/div[6]/div/div/div[5]/div/div/div/input')\n",
    "location.send_keys('Bangalore')"
   ]
  },
  {
   "cell_type": "code",
   "execution_count": 18,
   "id": "72e02405",
   "metadata": {},
   "outputs": [],
   "source": [
    "search=driver.find_element(By.CLASS_NAME,\"qsbSubmit\")\n",
    "search.click()"
   ]
  },
  {
   "cell_type": "code",
   "execution_count": 22,
   "id": "028d2deb",
   "metadata": {},
   "outputs": [],
   "source": [
    "#Creating all the necessary list \n",
    "job_title=[]\n",
    "job_location=[]\n",
    "company_name=[]\n",
    "experience_Required=[]"
   ]
  },
  {
   "cell_type": "code",
   "execution_count": 23,
   "id": "32213602",
   "metadata": {},
   "outputs": [
    {
     "data": {
      "text/plain": [
       "['Data Science Specialist',\n",
       " 'Analystics & Modeling Specialist',\n",
       " 'Data Scientist',\n",
       " 'Sr. Data scientist',\n",
       " 'Data Scientist',\n",
       " 'Lead Data Scientist',\n",
       " 'Data Scientist',\n",
       " 'Expert Data Scientist',\n",
       " 'Data Scientist Architect',\n",
       " 'Lead Artificial Intelligence Specialist']"
      ]
     },
     "execution_count": 23,
     "metadata": {},
     "output_type": "execute_result"
    }
   ],
   "source": [
    "#scraping job title from the given page\n",
    "title_tags=driver.find_elements(By.XPATH,'//a[@class=\"title ellipsis\"]')\n",
    "for i in title_tags[0:10]:\n",
    "    title=i.text\n",
    "    job_title.append(title)\n",
    "    \n",
    "job_title"
   ]
  },
  {
   "cell_type": "code",
   "execution_count": 24,
   "id": "a7aa1cf5",
   "metadata": {},
   "outputs": [
    {
     "data": {
      "text/plain": [
       "['Bangalore/Bengaluru, Kolkata, Mumbai, Hyderabad/Secunderabad, Pune, Chennai',\n",
       " 'Bangalore/Bengaluru, Kolkata, Mumbai, Hyderabad/Secunderabad, Pune, Chennai',\n",
       " 'Hybrid - Bangalore/Bengaluru, Kolkata, Hyderabad/Secunderabad, Pune, Chennai, Delhi / NCR, Mumbai (All Areas)',\n",
       " 'Bangalore/Bengaluru, Hyderabad/Secunderabad, Mumbai (All Areas)',\n",
       " 'Bangalore/Bengaluru, Noida, Kolkata, Mumbai, Hyderabad/Secunderabad, Pune, Chennai, Gurgaon/Gurugram',\n",
       " 'Bangalore/Bengaluru, Noida, Hyderabad/Secunderabad, Pune, Chennai, Mumbai (All Areas)',\n",
       " 'Bangalore/Bengaluru, Noida, Indore, Pune, Gurgaon/Gurugram',\n",
       " 'Bangalore/Bengaluru, Mumbai',\n",
       " 'Temp. WFH - Bangalore/Bengaluru, Hyderabad/Secunderabad',\n",
       " 'Bangalore/Bengaluru']"
      ]
     },
     "execution_count": 24,
     "metadata": {},
     "output_type": "execute_result"
    }
   ],
   "source": [
    "#scraping job location from the given page\n",
    "location_tags=driver.find_elements(By.XPATH,'//span[@class=\"ellipsis fleft locWdth\"]')\n",
    "for i in location_tags[0:10]:\n",
    "    location=i.text\n",
    "    job_location.append(location)\n",
    "    \n",
    "job_location"
   ]
  },
  {
   "cell_type": "code",
   "execution_count": 25,
   "id": "26f84e10",
   "metadata": {},
   "outputs": [
    {
     "data": {
      "text/plain": [
       "['Accenture',\n",
       " 'Accenture',\n",
       " 'Cognizant',\n",
       " 'Tata Consultancy Services (TCS)',\n",
       " 'Capgemini',\n",
       " 'Birlasoft',\n",
       " 'Impetus Technologies',\n",
       " 'UPL Limited',\n",
       " 'Brace Infotech',\n",
       " 'Baker Hughes']"
      ]
     },
     "execution_count": 25,
     "metadata": {},
     "output_type": "execute_result"
    }
   ],
   "source": [
    "#scraping company name from the given page\n",
    "company_tags=driver.find_elements(By.XPATH,'//a[@class=\"subTitle ellipsis fleft\"]')\n",
    "for i in company_tags[0:10]:\n",
    "    company=i.text\n",
    "    company_name.append(company)\n",
    "    \n",
    "company_name"
   ]
  },
  {
   "cell_type": "code",
   "execution_count": 26,
   "id": "195cc809",
   "metadata": {},
   "outputs": [
    {
     "data": {
      "text/plain": [
       "['2-4 Yrs',\n",
       " '6-8 Yrs',\n",
       " '8-10 Yrs',\n",
       " '7-12 Yrs',\n",
       " '9-14 Yrs',\n",
       " '8-12 Yrs',\n",
       " '4-8 Yrs',\n",
       " '8-10 Yrs',\n",
       " '11-20 Yrs',\n",
       " '5-10 Yrs']"
      ]
     },
     "execution_count": 26,
     "metadata": {},
     "output_type": "execute_result"
    }
   ],
   "source": [
    "#scraping job experience from the given page\n",
    "experience_tags=driver.find_elements(By.XPATH,'//span[@class=\"ellipsis fleft expwdth\"]')\n",
    "for i in experience_tags[0:10]:\n",
    "    experience=i.text\n",
    "    experience_Required.append(experience)\n",
    "    \n",
    "experience_Required"
   ]
  },
  {
   "cell_type": "code",
   "execution_count": 27,
   "id": "d9a74ff1",
   "metadata": {},
   "outputs": [
    {
     "name": "stdout",
     "output_type": "stream",
     "text": [
      "10 10 10 10\n"
     ]
    }
   ],
   "source": [
    "print(len(job_title),len(job_location),len(company_name),len(experience_Required))"
   ]
  },
  {
   "cell_type": "code",
   "execution_count": 28,
   "id": "db4b6186",
   "metadata": {},
   "outputs": [
    {
     "data": {
      "text/html": [
       "<div>\n",
       "<style scoped>\n",
       "    .dataframe tbody tr th:only-of-type {\n",
       "        vertical-align: middle;\n",
       "    }\n",
       "\n",
       "    .dataframe tbody tr th {\n",
       "        vertical-align: top;\n",
       "    }\n",
       "\n",
       "    .dataframe thead th {\n",
       "        text-align: right;\n",
       "    }\n",
       "</style>\n",
       "<table border=\"1\" class=\"dataframe\">\n",
       "  <thead>\n",
       "    <tr style=\"text-align: right;\">\n",
       "      <th></th>\n",
       "      <th>Title</th>\n",
       "      <th>Location</th>\n",
       "      <th>Company Name</th>\n",
       "      <th>Experience</th>\n",
       "    </tr>\n",
       "  </thead>\n",
       "  <tbody>\n",
       "    <tr>\n",
       "      <th>0</th>\n",
       "      <td>Data Science Specialist</td>\n",
       "      <td>Bangalore/Bengaluru, Kolkata, Mumbai, Hyderaba...</td>\n",
       "      <td>Accenture</td>\n",
       "      <td>2-4 Yrs</td>\n",
       "    </tr>\n",
       "    <tr>\n",
       "      <th>1</th>\n",
       "      <td>Analystics &amp; Modeling Specialist</td>\n",
       "      <td>Bangalore/Bengaluru, Kolkata, Mumbai, Hyderaba...</td>\n",
       "      <td>Accenture</td>\n",
       "      <td>6-8 Yrs</td>\n",
       "    </tr>\n",
       "    <tr>\n",
       "      <th>2</th>\n",
       "      <td>Data Scientist</td>\n",
       "      <td>Hybrid - Bangalore/Bengaluru, Kolkata, Hyderab...</td>\n",
       "      <td>Cognizant</td>\n",
       "      <td>8-10 Yrs</td>\n",
       "    </tr>\n",
       "    <tr>\n",
       "      <th>3</th>\n",
       "      <td>Sr. Data scientist</td>\n",
       "      <td>Bangalore/Bengaluru, Hyderabad/Secunderabad, M...</td>\n",
       "      <td>Tata Consultancy Services (TCS)</td>\n",
       "      <td>7-12 Yrs</td>\n",
       "    </tr>\n",
       "    <tr>\n",
       "      <th>4</th>\n",
       "      <td>Data Scientist</td>\n",
       "      <td>Bangalore/Bengaluru, Noida, Kolkata, Mumbai, H...</td>\n",
       "      <td>Capgemini</td>\n",
       "      <td>9-14 Yrs</td>\n",
       "    </tr>\n",
       "    <tr>\n",
       "      <th>5</th>\n",
       "      <td>Lead Data Scientist</td>\n",
       "      <td>Bangalore/Bengaluru, Noida, Hyderabad/Secunder...</td>\n",
       "      <td>Birlasoft</td>\n",
       "      <td>8-12 Yrs</td>\n",
       "    </tr>\n",
       "    <tr>\n",
       "      <th>6</th>\n",
       "      <td>Data Scientist</td>\n",
       "      <td>Bangalore/Bengaluru, Noida, Indore, Pune, Gurg...</td>\n",
       "      <td>Impetus Technologies</td>\n",
       "      <td>4-8 Yrs</td>\n",
       "    </tr>\n",
       "    <tr>\n",
       "      <th>7</th>\n",
       "      <td>Expert Data Scientist</td>\n",
       "      <td>Bangalore/Bengaluru, Mumbai</td>\n",
       "      <td>UPL Limited</td>\n",
       "      <td>8-10 Yrs</td>\n",
       "    </tr>\n",
       "    <tr>\n",
       "      <th>8</th>\n",
       "      <td>Data Scientist Architect</td>\n",
       "      <td>Temp. WFH - Bangalore/Bengaluru, Hyderabad/Sec...</td>\n",
       "      <td>Brace Infotech</td>\n",
       "      <td>11-20 Yrs</td>\n",
       "    </tr>\n",
       "    <tr>\n",
       "      <th>9</th>\n",
       "      <td>Lead Artificial Intelligence Specialist</td>\n",
       "      <td>Bangalore/Bengaluru</td>\n",
       "      <td>Baker Hughes</td>\n",
       "      <td>5-10 Yrs</td>\n",
       "    </tr>\n",
       "  </tbody>\n",
       "</table>\n",
       "</div>"
      ],
      "text/plain": [
       "                                     Title  \\\n",
       "0                  Data Science Specialist   \n",
       "1         Analystics & Modeling Specialist   \n",
       "2                           Data Scientist   \n",
       "3                       Sr. Data scientist   \n",
       "4                           Data Scientist   \n",
       "5                      Lead Data Scientist   \n",
       "6                           Data Scientist   \n",
       "7                    Expert Data Scientist   \n",
       "8                 Data Scientist Architect   \n",
       "9  Lead Artificial Intelligence Specialist   \n",
       "\n",
       "                                            Location  \\\n",
       "0  Bangalore/Bengaluru, Kolkata, Mumbai, Hyderaba...   \n",
       "1  Bangalore/Bengaluru, Kolkata, Mumbai, Hyderaba...   \n",
       "2  Hybrid - Bangalore/Bengaluru, Kolkata, Hyderab...   \n",
       "3  Bangalore/Bengaluru, Hyderabad/Secunderabad, M...   \n",
       "4  Bangalore/Bengaluru, Noida, Kolkata, Mumbai, H...   \n",
       "5  Bangalore/Bengaluru, Noida, Hyderabad/Secunder...   \n",
       "6  Bangalore/Bengaluru, Noida, Indore, Pune, Gurg...   \n",
       "7                        Bangalore/Bengaluru, Mumbai   \n",
       "8  Temp. WFH - Bangalore/Bengaluru, Hyderabad/Sec...   \n",
       "9                                Bangalore/Bengaluru   \n",
       "\n",
       "                      Company Name Experience  \n",
       "0                        Accenture    2-4 Yrs  \n",
       "1                        Accenture    6-8 Yrs  \n",
       "2                        Cognizant   8-10 Yrs  \n",
       "3  Tata Consultancy Services (TCS)   7-12 Yrs  \n",
       "4                        Capgemini   9-14 Yrs  \n",
       "5                        Birlasoft   8-12 Yrs  \n",
       "6             Impetus Technologies    4-8 Yrs  \n",
       "7                      UPL Limited   8-10 Yrs  \n",
       "8                   Brace Infotech  11-20 Yrs  \n",
       "9                     Baker Hughes   5-10 Yrs  "
      ]
     },
     "execution_count": 28,
     "metadata": {},
     "output_type": "execute_result"
    }
   ],
   "source": [
    "#Creating DataFrame\n",
    "import pandas as pd\n",
    "df=pd.DataFrame({'Title':job_title, 'Location':job_location, 'Company Name':company_name, 'Experience':experience_Required})\n",
    "df"
   ]
  },
  {
   "cell_type": "code",
   "execution_count": null,
   "id": "3666453b",
   "metadata": {},
   "outputs": [],
   "source": []
  },
  {
   "cell_type": "markdown",
   "id": "31bdea48",
   "metadata": {},
   "source": [
    "Q3. In this question you have to scrape data using the filters available on the webpage as shown below-\n",
    "\n",
    "You have to use the location and salary filter.\n",
    "\n",
    "You have to scrape data for “Data Scientist” designation for first 10 job results.\n",
    "\n",
    "You have to scrape the job-title, job-location, company name, experience required.\n",
    "\n",
    "The location filter to be used is “Delhi/NCR”. The salary filter to be used is “3-6” lakhs\n",
    "\n",
    "The task will be done as shown in the below steps-\n",
    "\n",
    "1. first get thewebpage https://www.naukri.com/\n",
    "\n",
    "2. Enter “Data Scientist” in “Skill, Designations, and Companies” field.\n",
    "\n",
    "3. Then click the searchbutton.\n",
    "\n",
    "4. Then apply the location filter and salary filter by checking the respective boxes\n",
    "\n",
    "5. Then scrape the data for the first 10 jobs results youget.\n",
    "\n",
    "6. Finally create a dataframe of the scraped data."
   ]
  },
  {
   "cell_type": "code",
   "execution_count": 31,
   "id": "10b4cebb",
   "metadata": {},
   "outputs": [],
   "source": [
    "#Connecting to the driver\n",
    "driver=webdriver.Chrome(r\"chromedriver.exe\")"
   ]
  },
  {
   "cell_type": "code",
   "execution_count": 32,
   "id": "8a11fbce",
   "metadata": {},
   "outputs": [],
   "source": [
    "#opening the naukri page on automated chrome browser\n",
    "driver.get('https://www.naukri.com/')"
   ]
  },
  {
   "cell_type": "code",
   "execution_count": 33,
   "id": "5a3173ef",
   "metadata": {},
   "outputs": [],
   "source": [
    "#entering designation as required in the question-\n",
    "\n",
    "designation=driver.find_element(By.CLASS_NAME,'suggestor-input')\n",
    "designation.send_keys('Data Scientist')\n"
   ]
  },
  {
   "cell_type": "code",
   "execution_count": null,
   "id": "39807006",
   "metadata": {},
   "outputs": [],
   "source": [
    "search=driver.find_element(By.CLASS_NAME,\"qsbSubmit\")    \n",
    "search.click()"
   ]
  },
  {
   "cell_type": "code",
   "execution_count": 37,
   "id": "989e6750",
   "metadata": {},
   "outputs": [],
   "source": [
    "location=driver.find_element(By.XPATH,'/html/body/div[1]/div[4]/div/div/section[1]/div[2]/div[5]/div[2]/div[2]/label/p/span[1]')\n",
    "location.click()"
   ]
  },
  {
   "cell_type": "code",
   "execution_count": 38,
   "id": "3be15b20",
   "metadata": {},
   "outputs": [],
   "source": [
    "salary=driver.find_element(By.XPATH,'/html/body/div[1]/div[4]/div/div/section[1]/div[2]/div[6]/div[2]/div[2]/label/p/span[1]')\n",
    "salary.click()"
   ]
  },
  {
   "cell_type": "code",
   "execution_count": 39,
   "id": "01e252ee",
   "metadata": {},
   "outputs": [],
   "source": [
    "job_title=[]\n",
    "job_location=[]\n",
    "company_name=[]\n",
    "experience_Required=[]"
   ]
  },
  {
   "cell_type": "code",
   "execution_count": 40,
   "id": "d676e611",
   "metadata": {},
   "outputs": [
    {
     "data": {
      "text/plain": [
       "['Data Scientist data Analyst',\n",
       " 'Data Scientist - Engine Algorithm',\n",
       " 'Analyst-Data Science',\n",
       " 'Analyst-Data Science',\n",
       " 'Senior Data Scientist - Statistics',\n",
       " 'Data Scientist',\n",
       " 'Data Scientist',\n",
       " 'Associate Data Scientist - ML & NLP',\n",
       " 'Data Scientist',\n",
       " 'Data Scientist']"
      ]
     },
     "execution_count": 40,
     "metadata": {},
     "output_type": "execute_result"
    }
   ],
   "source": [
    "#scraping job title from the given page\n",
    "title_tags=driver.find_elements(By.XPATH,'//a[@class=\"title ellipsis\"]')\n",
    "for i in title_tags[0:10]:\n",
    "    title=i.text\n",
    "    job_title.append(title)\n",
    "    \n",
    "job_title"
   ]
  },
  {
   "cell_type": "code",
   "execution_count": 41,
   "id": "164ff3c2",
   "metadata": {},
   "outputs": [
    {
     "data": {
      "text/plain": [
       "['Delhi / NCR, Kolkata, Hyderabad/Secunderabad, Pune, Ahmedabad, Chennai, Bangalore/Bengaluru, Mumbai (All Areas)',\n",
       " 'Delhi / NCR, Kolkata, Mumbai, Hyderabad/Secunderabad, Lucknow, Chennai, Ahmedabad, Bangalore/Bengaluru',\n",
       " 'Gurgaon/Gurugram',\n",
       " 'Gurgaon/Gurugram',\n",
       " 'Gurgaon/Gurugram',\n",
       " 'Delhi / NCR, Noida(Sector-136 Noida), Ghaziabad, Greater Noida',\n",
       " 'Gurgaon/Gurugram',\n",
       " 'Gurgaon/Gurugram',\n",
       " 'Noida',\n",
       " 'Dehradun, Hyderabad/Secunderabad, Gurgaon/Gurugram']"
      ]
     },
     "execution_count": 41,
     "metadata": {},
     "output_type": "execute_result"
    }
   ],
   "source": [
    "#scraping job location from the given page\n",
    "location_tags=driver.find_elements(By.XPATH,'//span[@class=\"ellipsis fleft locWdth\"]')\n",
    "for i in location_tags[0:10]:\n",
    "    location=i.text\n",
    "    job_location.append(location)\n",
    "    \n",
    "job_location"
   ]
  },
  {
   "cell_type": "code",
   "execution_count": 42,
   "id": "d8cc81b7",
   "metadata": {},
   "outputs": [
    {
     "data": {
      "text/plain": [
       "['Smark Laser Automation',\n",
       " 'Primo Hiring',\n",
       " 'AMERICAN EXPRESS',\n",
       " 'AMERICAN EXPRESS',\n",
       " 'Optum',\n",
       " 'Extramarks Education',\n",
       " 'Gartner India Research &amp; Advisory Services Pvt Ltd',\n",
       " 'Gartner India Research &amp; Advisory Services Pvt Ltd',\n",
       " 'Gujarat Fluorochemicals',\n",
       " 'Torcai Digital Media']"
      ]
     },
     "execution_count": 42,
     "metadata": {},
     "output_type": "execute_result"
    }
   ],
   "source": [
    "#scraping company name from the given page\n",
    "company_tags=driver.find_elements(By.XPATH,'//a[@class=\"subTitle ellipsis fleft\"]')\n",
    "for i in company_tags[0:10]:\n",
    "    company=i.text\n",
    "    company_name.append(company)\n",
    "    \n",
    "company_name"
   ]
  },
  {
   "cell_type": "code",
   "execution_count": 43,
   "id": "3f698862",
   "metadata": {},
   "outputs": [
    {
     "data": {
      "text/plain": [
       "['0-5 Yrs',\n",
       " '1-3 Yrs',\n",
       " '0-3 Yrs',\n",
       " '0-3 Yrs',\n",
       " '5-8 Yrs',\n",
       " '3-5 Yrs',\n",
       " '2-7 Yrs',\n",
       " '2-4 Yrs',\n",
       " '1-2 Yrs',\n",
       " '2-7 Yrs']"
      ]
     },
     "execution_count": 43,
     "metadata": {},
     "output_type": "execute_result"
    }
   ],
   "source": [
    "#scraping job experience from the given page\n",
    "experience_tags=driver.find_elements(By.XPATH,'//span[@class=\"ellipsis fleft expwdth\"]')\n",
    "for i in experience_tags[0:10]:\n",
    "    experience=i.text\n",
    "    experience_Required.append(experience)\n",
    "    \n",
    "experience_Required"
   ]
  },
  {
   "cell_type": "code",
   "execution_count": 44,
   "id": "439244fa",
   "metadata": {},
   "outputs": [
    {
     "name": "stdout",
     "output_type": "stream",
     "text": [
      "10 10 10 10\n"
     ]
    }
   ],
   "source": [
    "print(len(job_title),len(job_location),len(company_name),len(experience_Required))"
   ]
  },
  {
   "cell_type": "code",
   "execution_count": 45,
   "id": "63084827",
   "metadata": {
    "scrolled": true
   },
   "outputs": [
    {
     "data": {
      "text/html": [
       "<div>\n",
       "<style scoped>\n",
       "    .dataframe tbody tr th:only-of-type {\n",
       "        vertical-align: middle;\n",
       "    }\n",
       "\n",
       "    .dataframe tbody tr th {\n",
       "        vertical-align: top;\n",
       "    }\n",
       "\n",
       "    .dataframe thead th {\n",
       "        text-align: right;\n",
       "    }\n",
       "</style>\n",
       "<table border=\"1\" class=\"dataframe\">\n",
       "  <thead>\n",
       "    <tr style=\"text-align: right;\">\n",
       "      <th></th>\n",
       "      <th>Title</th>\n",
       "      <th>Location</th>\n",
       "      <th>Company Name</th>\n",
       "      <th>Experience</th>\n",
       "    </tr>\n",
       "  </thead>\n",
       "  <tbody>\n",
       "    <tr>\n",
       "      <th>0</th>\n",
       "      <td>Data Scientist data Analyst</td>\n",
       "      <td>Delhi / NCR, Kolkata, Hyderabad/Secunderabad, ...</td>\n",
       "      <td>Smark Laser Automation</td>\n",
       "      <td>0-5 Yrs</td>\n",
       "    </tr>\n",
       "    <tr>\n",
       "      <th>1</th>\n",
       "      <td>Data Scientist - Engine Algorithm</td>\n",
       "      <td>Delhi / NCR, Kolkata, Mumbai, Hyderabad/Secund...</td>\n",
       "      <td>Primo Hiring</td>\n",
       "      <td>1-3 Yrs</td>\n",
       "    </tr>\n",
       "    <tr>\n",
       "      <th>2</th>\n",
       "      <td>Analyst-Data Science</td>\n",
       "      <td>Gurgaon/Gurugram</td>\n",
       "      <td>AMERICAN EXPRESS</td>\n",
       "      <td>0-3 Yrs</td>\n",
       "    </tr>\n",
       "    <tr>\n",
       "      <th>3</th>\n",
       "      <td>Analyst-Data Science</td>\n",
       "      <td>Gurgaon/Gurugram</td>\n",
       "      <td>AMERICAN EXPRESS</td>\n",
       "      <td>0-3 Yrs</td>\n",
       "    </tr>\n",
       "    <tr>\n",
       "      <th>4</th>\n",
       "      <td>Senior Data Scientist - Statistics</td>\n",
       "      <td>Gurgaon/Gurugram</td>\n",
       "      <td>Optum</td>\n",
       "      <td>5-8 Yrs</td>\n",
       "    </tr>\n",
       "    <tr>\n",
       "      <th>5</th>\n",
       "      <td>Data Scientist</td>\n",
       "      <td>Delhi / NCR, Noida(Sector-136 Noida), Ghaziaba...</td>\n",
       "      <td>Extramarks Education</td>\n",
       "      <td>3-5 Yrs</td>\n",
       "    </tr>\n",
       "    <tr>\n",
       "      <th>6</th>\n",
       "      <td>Data Scientist</td>\n",
       "      <td>Gurgaon/Gurugram</td>\n",
       "      <td>Gartner India Research &amp;amp; Advisory Services...</td>\n",
       "      <td>2-7 Yrs</td>\n",
       "    </tr>\n",
       "    <tr>\n",
       "      <th>7</th>\n",
       "      <td>Associate Data Scientist - ML &amp; NLP</td>\n",
       "      <td>Gurgaon/Gurugram</td>\n",
       "      <td>Gartner India Research &amp;amp; Advisory Services...</td>\n",
       "      <td>2-4 Yrs</td>\n",
       "    </tr>\n",
       "    <tr>\n",
       "      <th>8</th>\n",
       "      <td>Data Scientist</td>\n",
       "      <td>Noida</td>\n",
       "      <td>Gujarat Fluorochemicals</td>\n",
       "      <td>1-2 Yrs</td>\n",
       "    </tr>\n",
       "    <tr>\n",
       "      <th>9</th>\n",
       "      <td>Data Scientist</td>\n",
       "      <td>Dehradun, Hyderabad/Secunderabad, Gurgaon/Guru...</td>\n",
       "      <td>Torcai Digital Media</td>\n",
       "      <td>2-7 Yrs</td>\n",
       "    </tr>\n",
       "  </tbody>\n",
       "</table>\n",
       "</div>"
      ],
      "text/plain": [
       "                                 Title  \\\n",
       "0          Data Scientist data Analyst   \n",
       "1    Data Scientist - Engine Algorithm   \n",
       "2                 Analyst-Data Science   \n",
       "3                 Analyst-Data Science   \n",
       "4   Senior Data Scientist - Statistics   \n",
       "5                       Data Scientist   \n",
       "6                       Data Scientist   \n",
       "7  Associate Data Scientist - ML & NLP   \n",
       "8                       Data Scientist   \n",
       "9                       Data Scientist   \n",
       "\n",
       "                                            Location  \\\n",
       "0  Delhi / NCR, Kolkata, Hyderabad/Secunderabad, ...   \n",
       "1  Delhi / NCR, Kolkata, Mumbai, Hyderabad/Secund...   \n",
       "2                                   Gurgaon/Gurugram   \n",
       "3                                   Gurgaon/Gurugram   \n",
       "4                                   Gurgaon/Gurugram   \n",
       "5  Delhi / NCR, Noida(Sector-136 Noida), Ghaziaba...   \n",
       "6                                   Gurgaon/Gurugram   \n",
       "7                                   Gurgaon/Gurugram   \n",
       "8                                              Noida   \n",
       "9  Dehradun, Hyderabad/Secunderabad, Gurgaon/Guru...   \n",
       "\n",
       "                                        Company Name Experience  \n",
       "0                             Smark Laser Automation    0-5 Yrs  \n",
       "1                                       Primo Hiring    1-3 Yrs  \n",
       "2                                   AMERICAN EXPRESS    0-3 Yrs  \n",
       "3                                   AMERICAN EXPRESS    0-3 Yrs  \n",
       "4                                              Optum    5-8 Yrs  \n",
       "5                               Extramarks Education    3-5 Yrs  \n",
       "6  Gartner India Research &amp; Advisory Services...    2-7 Yrs  \n",
       "7  Gartner India Research &amp; Advisory Services...    2-4 Yrs  \n",
       "8                            Gujarat Fluorochemicals    1-2 Yrs  \n",
       "9                               Torcai Digital Media    2-7 Yrs  "
      ]
     },
     "execution_count": 45,
     "metadata": {},
     "output_type": "execute_result"
    }
   ],
   "source": [
    "import pandas as pd\n",
    "df=pd.DataFrame({'Title':job_title, 'Location':job_location, 'Company Name':company_name, 'Experience':experience_Required})\n",
    "df"
   ]
  },
  {
   "cell_type": "code",
   "execution_count": null,
   "id": "32a3e9c4",
   "metadata": {},
   "outputs": [],
   "source": []
  },
  {
   "cell_type": "markdown",
   "id": "66e208fa",
   "metadata": {},
   "source": [
    "Q4: Scrape data of first 100 sunglasses listings on flipkart.com. You have to scrape four attributes:\n",
    "1. Brand\n",
    "2. ProductDescription\n",
    "3. Price\n",
    "The attributes which you have to scrape is ticked marked in the below image.\n",
    "\n",
    "To scrape the data you have to go through following steps:\n",
    "1. Go to Flipkart webpage by url :https://www.flipkart.com/\n",
    "2. Enter “sunglasses” in the search field where “search for products, brands and more” is written and\n",
    "click the search icon\n",
    "3. After that you will reach to the page having a lot of sunglasses. From this page you can scrap the\n",
    "required data asusual"
   ]
  },
  {
   "cell_type": "code",
   "execution_count": 51,
   "id": "abc143a7",
   "metadata": {},
   "outputs": [],
   "source": [
    "#Connecting to the driver\n",
    "driver=webdriver.Chrome(r\"chromedriver.exe\")"
   ]
  },
  {
   "cell_type": "code",
   "execution_count": 52,
   "id": "f194659c",
   "metadata": {},
   "outputs": [],
   "source": [
    "#opening the flipkart page on automated chrome browser\n",
    "driver.get('https://www.flipkart.com/')"
   ]
  },
  {
   "cell_type": "code",
   "execution_count": 53,
   "id": "2561de90",
   "metadata": {},
   "outputs": [],
   "source": [
    "sunglass=driver.find_element(By.XPATH,'/html/body/div[1]/div/div[1]/div[1]/div[2]/div[2]/form/div/div/input')\n",
    "sunglass.send_keys('sunglasses')"
   ]
  },
  {
   "cell_type": "code",
   "execution_count": 56,
   "id": "0da01d37",
   "metadata": {},
   "outputs": [],
   "source": [
    "search=driver.find_element(By.XPATH,'//button[@class=\"L0Z3Pu\"]')    \n",
    "search.click()"
   ]
  },
  {
   "cell_type": "code",
   "execution_count": 57,
   "id": "753e76b3",
   "metadata": {},
   "outputs": [],
   "source": [
    "#creat list \n",
    "brand_name=[]\n",
    "ProductDescription=[]\n",
    "price=[]"
   ]
  },
  {
   "cell_type": "code",
   "execution_count": 58,
   "id": "f94f624a",
   "metadata": {},
   "outputs": [],
   "source": [
    "#scraping values for brand name from the page\n",
    "start=0\n",
    "end=3\n",
    "\n",
    "for page in range(start,end):\n",
    "    brand=driver.find_elements(By.XPATH,'//div[@class=\"_2WkVRV\"]')\n",
    "    for i in brand:\n",
    "        brand_name.append(i.text)\n",
    "    next_button=driver.find_element(By.XPATH,'//a[@class=\"_1LKTO3\"]')\n",
    "    next_button.click()\n",
    "    time.sleep(3)"
   ]
  },
  {
   "cell_type": "code",
   "execution_count": 59,
   "id": "c2f0dbe8",
   "metadata": {},
   "outputs": [
    {
     "data": {
      "text/plain": [
       "120"
      ]
     },
     "execution_count": 59,
     "metadata": {},
     "output_type": "execute_result"
    }
   ],
   "source": [
    "len(brand_name)"
   ]
  },
  {
   "cell_type": "code",
   "execution_count": 60,
   "id": "1bf488f3",
   "metadata": {},
   "outputs": [],
   "source": [
    "brand_name=brand_name[:100]"
   ]
  },
  {
   "cell_type": "code",
   "execution_count": 61,
   "id": "751afa0a",
   "metadata": {},
   "outputs": [
    {
     "data": {
      "text/plain": [
       "100"
      ]
     },
     "execution_count": 61,
     "metadata": {},
     "output_type": "execute_result"
    }
   ],
   "source": [
    "len(brand_name)"
   ]
  },
  {
   "cell_type": "code",
   "execution_count": 62,
   "id": "41774a0c",
   "metadata": {},
   "outputs": [],
   "source": [
    "#scraping values for product Description from the page\n",
    "start=0\n",
    "end=3\n",
    "\n",
    "for page in range(start,end):\n",
    "    product=driver.find_elements(By.XPATH,'//a[@class=\"IRpwTa\"]')\n",
    "    for i in product:\n",
    "        ProductDescription.append(i.text)\n",
    "    next_button=driver.find_element(By.XPATH,'//a[@class=\"_1LKTO3\"]')\n",
    "    next_button.click()\n",
    "    time.sleep(3)"
   ]
  },
  {
   "cell_type": "code",
   "execution_count": 63,
   "id": "b5798651",
   "metadata": {},
   "outputs": [],
   "source": [
    "ProductDescription=ProductDescription[:100]"
   ]
  },
  {
   "cell_type": "code",
   "execution_count": 64,
   "id": "25fcbcc7",
   "metadata": {},
   "outputs": [
    {
     "data": {
      "text/plain": [
       "100"
      ]
     },
     "execution_count": 64,
     "metadata": {},
     "output_type": "execute_result"
    }
   ],
   "source": [
    "len(ProductDescription)"
   ]
  },
  {
   "cell_type": "code",
   "execution_count": 65,
   "id": "b170529e",
   "metadata": {},
   "outputs": [],
   "source": [
    "#scraping values for price range from the page \n",
    "start=0\n",
    "end=3\n",
    "\n",
    "for page in range(start,end):\n",
    "    price_r=driver.find_elements(By.XPATH,'//div[@class=\"_2WkVRV\"]')\n",
    "    for i in price_r:\n",
    "        price.append(i.text)\n",
    "    next_button=driver.find_element(By.XPATH,'//a[@class=\"_1LKTO3\"]')\n",
    "    next_button.click()\n",
    "    time.sleep(3)"
   ]
  },
  {
   "cell_type": "code",
   "execution_count": 66,
   "id": "fd576b33",
   "metadata": {},
   "outputs": [],
   "source": [
    "price=price[:100]"
   ]
  },
  {
   "cell_type": "code",
   "execution_count": 67,
   "id": "cbce9198",
   "metadata": {},
   "outputs": [
    {
     "data": {
      "text/plain": [
       "100"
      ]
     },
     "execution_count": 67,
     "metadata": {},
     "output_type": "execute_result"
    }
   ],
   "source": [
    "len(price)"
   ]
  },
  {
   "cell_type": "code",
   "execution_count": 68,
   "id": "7ad0e094",
   "metadata": {},
   "outputs": [
    {
     "name": "stdout",
     "output_type": "stream",
     "text": [
      "100 100 100\n"
     ]
    }
   ],
   "source": [
    "print(len(brand_name),len(ProductDescription),len(price))"
   ]
  },
  {
   "cell_type": "code",
   "execution_count": 69,
   "id": "3218fc4f",
   "metadata": {},
   "outputs": [
    {
     "data": {
      "text/html": [
       "<div>\n",
       "<style scoped>\n",
       "    .dataframe tbody tr th:only-of-type {\n",
       "        vertical-align: middle;\n",
       "    }\n",
       "\n",
       "    .dataframe tbody tr th {\n",
       "        vertical-align: top;\n",
       "    }\n",
       "\n",
       "    .dataframe thead th {\n",
       "        text-align: right;\n",
       "    }\n",
       "</style>\n",
       "<table border=\"1\" class=\"dataframe\">\n",
       "  <thead>\n",
       "    <tr style=\"text-align: right;\">\n",
       "      <th></th>\n",
       "      <th>Brand</th>\n",
       "      <th>ProductDescription</th>\n",
       "      <th>Price</th>\n",
       "    </tr>\n",
       "  </thead>\n",
       "  <tbody>\n",
       "    <tr>\n",
       "      <th>0</th>\n",
       "      <td>Singco India</td>\n",
       "      <td>UV Protection Round Sunglasses (54)</td>\n",
       "      <td>Singco India</td>\n",
       "    </tr>\n",
       "    <tr>\n",
       "      <th>1</th>\n",
       "      <td>Singco India</td>\n",
       "      <td>UV Protection, Mirrored Wayfarer Sunglasses (58)</td>\n",
       "      <td>Singco India</td>\n",
       "    </tr>\n",
       "    <tr>\n",
       "      <th>2</th>\n",
       "      <td>SRPM</td>\n",
       "      <td>UV Protection Retro Square Sunglasses (53)</td>\n",
       "      <td>SRPM</td>\n",
       "    </tr>\n",
       "    <tr>\n",
       "      <th>3</th>\n",
       "      <td>Fastrack</td>\n",
       "      <td>UV Protection, Riding Glasses Retro Square, Re...</td>\n",
       "      <td>Fastrack</td>\n",
       "    </tr>\n",
       "    <tr>\n",
       "      <th>4</th>\n",
       "      <td>Fastrack</td>\n",
       "      <td>UV Protection Aviator Sunglasses (57)</td>\n",
       "      <td>Fastrack</td>\n",
       "    </tr>\n",
       "    <tr>\n",
       "      <th>...</th>\n",
       "      <td>...</td>\n",
       "      <td>...</td>\n",
       "      <td>...</td>\n",
       "    </tr>\n",
       "    <tr>\n",
       "      <th>95</th>\n",
       "      <td>ROZZETTA CRAFT</td>\n",
       "      <td>Polarized, UV Protection Round Sunglasses (50)</td>\n",
       "      <td>ROZZETTA CRAFT</td>\n",
       "    </tr>\n",
       "    <tr>\n",
       "      <th>96</th>\n",
       "      <td>Fastrack</td>\n",
       "      <td>Mirrored, Night Vision, UV Protection, Riding ...</td>\n",
       "      <td>Fastrack</td>\n",
       "    </tr>\n",
       "    <tr>\n",
       "      <th>97</th>\n",
       "      <td>PIRASO</td>\n",
       "      <td>UV Protection Retro Square Sunglasses (54)</td>\n",
       "      <td>PIRASO</td>\n",
       "    </tr>\n",
       "    <tr>\n",
       "      <th>98</th>\n",
       "      <td>Fastrack</td>\n",
       "      <td>UV Protection, Gradient Round Sunglasses (Free...</td>\n",
       "      <td>Fastrack</td>\n",
       "    </tr>\n",
       "    <tr>\n",
       "      <th>99</th>\n",
       "      <td>Fair-x</td>\n",
       "      <td>Gradient, UV Protection Aviator Sunglasses (57)</td>\n",
       "      <td>Velocity Eyewear</td>\n",
       "    </tr>\n",
       "  </tbody>\n",
       "</table>\n",
       "<p>100 rows × 3 columns</p>\n",
       "</div>"
      ],
      "text/plain": [
       "             Brand                                 ProductDescription  \\\n",
       "0     Singco India                UV Protection Round Sunglasses (54)   \n",
       "1     Singco India   UV Protection, Mirrored Wayfarer Sunglasses (58)   \n",
       "2             SRPM         UV Protection Retro Square Sunglasses (53)   \n",
       "3         Fastrack  UV Protection, Riding Glasses Retro Square, Re...   \n",
       "4         Fastrack              UV Protection Aviator Sunglasses (57)   \n",
       "..             ...                                                ...   \n",
       "95  ROZZETTA CRAFT     Polarized, UV Protection Round Sunglasses (50)   \n",
       "96        Fastrack  Mirrored, Night Vision, UV Protection, Riding ...   \n",
       "97          PIRASO         UV Protection Retro Square Sunglasses (54)   \n",
       "98        Fastrack  UV Protection, Gradient Round Sunglasses (Free...   \n",
       "99          Fair-x    Gradient, UV Protection Aviator Sunglasses (57)   \n",
       "\n",
       "               Price  \n",
       "0       Singco India  \n",
       "1       Singco India  \n",
       "2               SRPM  \n",
       "3           Fastrack  \n",
       "4           Fastrack  \n",
       "..               ...  \n",
       "95    ROZZETTA CRAFT  \n",
       "96          Fastrack  \n",
       "97            PIRASO  \n",
       "98          Fastrack  \n",
       "99  Velocity Eyewear  \n",
       "\n",
       "[100 rows x 3 columns]"
      ]
     },
     "execution_count": 69,
     "metadata": {},
     "output_type": "execute_result"
    }
   ],
   "source": [
    "import pandas as pd\n",
    "df=pd.DataFrame({'Brand':brand_name, 'ProductDescription':ProductDescription, 'Price':price,})\n",
    "df"
   ]
  },
  {
   "cell_type": "code",
   "execution_count": null,
   "id": "43f48530",
   "metadata": {},
   "outputs": [],
   "source": []
  },
  {
   "cell_type": "markdown",
   "id": "a283e72a",
   "metadata": {},
   "source": [
    "Q5: Scrape 100 reviews data from flipkart.com for iphone11 phone. You have to go the link:\n",
    "https://www.flipkart.com/apple-iphone-11-black-64-gb/productreviews/itm4e5041ba101fd?pid=MOBFWQ6BXGJCEYNY&lid=LSTMOBFWQ6BXGJCEYNYZXSHRJ&market\n",
    "place=FLIPKART\n",
    "\n",
    "As shown in the above page you have to scrape the tick marked attributes. These are:\n",
    "1. Rating\n",
    "2. Review summary\n",
    "3. Full review\n",
    "4. You have to scrape this data for first 100reviews"
   ]
  },
  {
   "cell_type": "code",
   "execution_count": 70,
   "id": "16aa0647",
   "metadata": {},
   "outputs": [],
   "source": [
    "#connecting to the web driver\n",
    "driver=webdriver.Chrome(r\"chromedriver.exe\")"
   ]
  },
  {
   "cell_type": "code",
   "execution_count": 74,
   "id": "9dc1de5d",
   "metadata": {},
   "outputs": [],
   "source": [
    "#opening the flipkart page on automated chrome browser\n",
    "driver.get('https://www.flipkart.com/apple-iphone-11-white-128-gb/p/itme32df47ea6742?pid=MOBFWQ6B7KKRXDDS&lid=LSTMOBFWQ6B7KKRXDDSULUZ0N&marketplace=FLIPKART&q=iphone+11&store=tyy/4io&srno=s_1_1&otracker=AS_QueryStore_OrganicAutoSuggest_3_9_na_na_na&otracker1=AS_QueryStore_OrganicAutoSuggest_3_9_na_na_na&fm=organic&iid=c8d8741d-6266-4b08-b629-069988995213.MOBFWQ6B7KKRXDDS.SEARCH&ppt=hp&ppn=homepage&ssid=6ybad3e24w0000001676520218240&qH=f6cdfdaa9f3c23f3')"
   ]
  },
  {
   "cell_type": "code",
   "execution_count": 75,
   "id": "6e9be90c",
   "metadata": {},
   "outputs": [],
   "source": [
    "#Create list\n",
    "Rating=[]\n",
    "Review_summary=[]\n",
    "Full_review=[]"
   ]
  },
  {
   "cell_type": "code",
   "execution_count": 77,
   "id": "6738a86a",
   "metadata": {},
   "outputs": [],
   "source": [
    "#scraping values for rating from the page\n",
    "start=0\n",
    "end=10\n",
    "\n",
    "for page in range(start,end):\n",
    "    rating=driver.find_elements(By.XPATH,'//div[@class=\"_3LWZlK _1BLPMq\"]')\n",
    "    for i in rating:\n",
    "        Rating.append(i.text)\n",
    "    next_button=driver.find_element(By.XPATH,'//a[@class=\"_1LKTO3\"]')\n",
    "    next_button.click()\n",
    "    time.sleep(3)"
   ]
  },
  {
   "cell_type": "code",
   "execution_count": 78,
   "id": "45a4cc9f",
   "metadata": {},
   "outputs": [
    {
     "data": {
      "text/plain": [
       "110"
      ]
     },
     "execution_count": 78,
     "metadata": {},
     "output_type": "execute_result"
    }
   ],
   "source": [
    "len(Rating)"
   ]
  },
  {
   "cell_type": "code",
   "execution_count": 79,
   "id": "3b0a8a83",
   "metadata": {},
   "outputs": [],
   "source": [
    "Rating=Rating[:100]"
   ]
  },
  {
   "cell_type": "code",
   "execution_count": 80,
   "id": "2a5ded9c",
   "metadata": {},
   "outputs": [
    {
     "data": {
      "text/plain": [
       "100"
      ]
     },
     "execution_count": 80,
     "metadata": {},
     "output_type": "execute_result"
    }
   ],
   "source": [
    "len(Rating)"
   ]
  },
  {
   "cell_type": "code",
   "execution_count": 81,
   "id": "ec850de3",
   "metadata": {},
   "outputs": [],
   "source": [
    "#scraping values for review summary from the page\n",
    "start=0\n",
    "end=10\n",
    "\n",
    "for page in range(start,end):\n",
    "    review=driver.find_elements(By.XPATH,'//p[@class=\"_2-N8zT\"]')\n",
    "    for i in review:\n",
    "        Review_summary.append(i.text)\n",
    "    next_button=driver.find_element(By.XPATH,'//a[@class=\"_1LKTO3\"]')\n",
    "    next_button.click()\n",
    "    time.sleep(3)"
   ]
  },
  {
   "cell_type": "code",
   "execution_count": 82,
   "id": "5f8cab07",
   "metadata": {},
   "outputs": [
    {
     "data": {
      "text/plain": [
       "100"
      ]
     },
     "execution_count": 82,
     "metadata": {},
     "output_type": "execute_result"
    }
   ],
   "source": [
    "len(Review_summary)"
   ]
  },
  {
   "cell_type": "code",
   "execution_count": 83,
   "id": "79e2e347",
   "metadata": {},
   "outputs": [],
   "source": [
    "Review_summary=Review_summary[:100]"
   ]
  },
  {
   "cell_type": "code",
   "execution_count": 84,
   "id": "5c1e01b6",
   "metadata": {},
   "outputs": [
    {
     "data": {
      "text/plain": [
       "100"
      ]
     },
     "execution_count": 84,
     "metadata": {},
     "output_type": "execute_result"
    }
   ],
   "source": [
    "len(Review_summary)"
   ]
  },
  {
   "cell_type": "code",
   "execution_count": 85,
   "id": "8507e480",
   "metadata": {},
   "outputs": [],
   "source": [
    "#scraping values for full review summary from the page\n",
    "start=0\n",
    "end=10\n",
    "\n",
    "for page in range(start,end):\n",
    "    full=driver.find_elements(By.XPATH,'//div[@class=\"t-ZTKy\"]')\n",
    "    for i in full:\n",
    "        Full_review.append(i.text)\n",
    "    next_button=driver.find_element(By.XPATH,'//a[@class=\"_1LKTO3\"]')\n",
    "    next_button.click()\n",
    "    time.sleep(3)"
   ]
  },
  {
   "cell_type": "code",
   "execution_count": 86,
   "id": "a4378bc4",
   "metadata": {},
   "outputs": [
    {
     "data": {
      "text/plain": [
       "100"
      ]
     },
     "execution_count": 86,
     "metadata": {},
     "output_type": "execute_result"
    }
   ],
   "source": [
    "len(Full_review)"
   ]
  },
  {
   "cell_type": "code",
   "execution_count": 87,
   "id": "979b95c4",
   "metadata": {},
   "outputs": [],
   "source": [
    "Full_review=Full_review[:100]"
   ]
  },
  {
   "cell_type": "code",
   "execution_count": 88,
   "id": "df05acac",
   "metadata": {},
   "outputs": [
    {
     "data": {
      "text/plain": [
       "100"
      ]
     },
     "execution_count": 88,
     "metadata": {},
     "output_type": "execute_result"
    }
   ],
   "source": [
    "len(Full_review)"
   ]
  },
  {
   "cell_type": "code",
   "execution_count": 89,
   "id": "4e721450",
   "metadata": {},
   "outputs": [
    {
     "data": {
      "text/html": [
       "<div>\n",
       "<style scoped>\n",
       "    .dataframe tbody tr th:only-of-type {\n",
       "        vertical-align: middle;\n",
       "    }\n",
       "\n",
       "    .dataframe tbody tr th {\n",
       "        vertical-align: top;\n",
       "    }\n",
       "\n",
       "    .dataframe thead th {\n",
       "        text-align: right;\n",
       "    }\n",
       "</style>\n",
       "<table border=\"1\" class=\"dataframe\">\n",
       "  <thead>\n",
       "    <tr style=\"text-align: right;\">\n",
       "      <th></th>\n",
       "      <th>Rating</th>\n",
       "      <th>Review Summary</th>\n",
       "      <th>Full Review</th>\n",
       "    </tr>\n",
       "  </thead>\n",
       "  <tbody>\n",
       "    <tr>\n",
       "      <th>0</th>\n",
       "      <td>5</td>\n",
       "      <td>Fabulous!</td>\n",
       "      <td>Really satisfied with the Product I received.....</td>\n",
       "    </tr>\n",
       "    <tr>\n",
       "      <th>1</th>\n",
       "      <td>5</td>\n",
       "      <td>Classy product</td>\n",
       "      <td>Amazing phone with great cameras and better ba...</td>\n",
       "    </tr>\n",
       "    <tr>\n",
       "      <th>2</th>\n",
       "      <td>5</td>\n",
       "      <td>Worth every penny</td>\n",
       "      <td>Great iPhone very snappy experience as apple k...</td>\n",
       "    </tr>\n",
       "    <tr>\n",
       "      <th>3</th>\n",
       "      <td></td>\n",
       "      <td>Perfect product!</td>\n",
       "      <td>I'm Really happy with the product\\nDelivery wa...</td>\n",
       "    </tr>\n",
       "    <tr>\n",
       "      <th>4</th>\n",
       "      <td></td>\n",
       "      <td>Value-for-money</td>\n",
       "      <td>It's my first time to use iOS phone and I am l...</td>\n",
       "    </tr>\n",
       "    <tr>\n",
       "      <th>...</th>\n",
       "      <td>...</td>\n",
       "      <td>...</td>\n",
       "      <td>...</td>\n",
       "    </tr>\n",
       "    <tr>\n",
       "      <th>95</th>\n",
       "      <td>4</td>\n",
       "      <td>Good choice</td>\n",
       "      <td>So far it’s been an AMAZING experience coming ...</td>\n",
       "    </tr>\n",
       "    <tr>\n",
       "      <th>96</th>\n",
       "      <td>5</td>\n",
       "      <td>Perfect product!</td>\n",
       "      <td>Value for money❤️❤️\\nIts awesome mobile phone ...</td>\n",
       "    </tr>\n",
       "    <tr>\n",
       "      <th>97</th>\n",
       "      <td>5</td>\n",
       "      <td>Highly recommended</td>\n",
       "      <td>iphone 11 is a very good phone to buy only if ...</td>\n",
       "    </tr>\n",
       "    <tr>\n",
       "      <th>98</th>\n",
       "      <td>5</td>\n",
       "      <td>Highly recommended</td>\n",
       "      <td>Amazing camera quality as expected, battery al...</td>\n",
       "    </tr>\n",
       "    <tr>\n",
       "      <th>99</th>\n",
       "      <td>5</td>\n",
       "      <td>Perfect product!</td>\n",
       "      <td>It is just awesome mobile for this price from ...</td>\n",
       "    </tr>\n",
       "  </tbody>\n",
       "</table>\n",
       "<p>100 rows × 3 columns</p>\n",
       "</div>"
      ],
      "text/plain": [
       "   Rating      Review Summary  \\\n",
       "0       5           Fabulous!   \n",
       "1       5      Classy product   \n",
       "2       5   Worth every penny   \n",
       "3            Perfect product!   \n",
       "4             Value-for-money   \n",
       "..    ...                 ...   \n",
       "95      4         Good choice   \n",
       "96      5    Perfect product!   \n",
       "97      5  Highly recommended   \n",
       "98      5  Highly recommended   \n",
       "99      5    Perfect product!   \n",
       "\n",
       "                                          Full Review  \n",
       "0   Really satisfied with the Product I received.....  \n",
       "1   Amazing phone with great cameras and better ba...  \n",
       "2   Great iPhone very snappy experience as apple k...  \n",
       "3   I'm Really happy with the product\\nDelivery wa...  \n",
       "4   It's my first time to use iOS phone and I am l...  \n",
       "..                                                ...  \n",
       "95  So far it’s been an AMAZING experience coming ...  \n",
       "96  Value for money❤️❤️\\nIts awesome mobile phone ...  \n",
       "97  iphone 11 is a very good phone to buy only if ...  \n",
       "98  Amazing camera quality as expected, battery al...  \n",
       "99  It is just awesome mobile for this price from ...  \n",
       "\n",
       "[100 rows x 3 columns]"
      ]
     },
     "execution_count": 89,
     "metadata": {},
     "output_type": "execute_result"
    }
   ],
   "source": [
    "import pandas as pd\n",
    "df=pd.DataFrame({'Rating':Rating, 'Review Summary':Review_summary, 'Full Review':Full_review,})\n",
    "df"
   ]
  },
  {
   "cell_type": "code",
   "execution_count": null,
   "id": "aa5c257d",
   "metadata": {},
   "outputs": [],
   "source": []
  },
  {
   "cell_type": "markdown",
   "id": "f44cbf6f",
   "metadata": {},
   "source": [
    "Q6: Scrape data for first 100 sneakers you find when you visit flipkart.com and search for “sneakers” in the\n",
    "search field.\n",
    "You have to scrape 3 attributes of each sneaker:\n",
    "\n",
    "1. Brand\n",
    "\n",
    "2. ProductDescription\n",
    "\n",
    "3. Price\n",
    "\n",
    "As shown in the below image, you have to scrape the above attributes.\n"
   ]
  },
  {
   "cell_type": "code",
   "execution_count": 90,
   "id": "b2c0ec07",
   "metadata": {},
   "outputs": [],
   "source": [
    "#connecting to the driver\n",
    "driver=webdriver.Chrome(r\"chromedriver.exe\")"
   ]
  },
  {
   "cell_type": "code",
   "execution_count": 91,
   "id": "d5da6149",
   "metadata": {},
   "outputs": [],
   "source": [
    "#opening webpage in driver\n",
    "driver.get('https://www.flipkart.com/')"
   ]
  },
  {
   "cell_type": "code",
   "execution_count": 92,
   "id": "a858750a",
   "metadata": {},
   "outputs": [],
   "source": [
    "#searching for sneakers on flipkart page\n",
    "search=driver.find_element(By.XPATH,'/html/body/div[1]/div/div[1]/div[1]/div[2]/div[2]/form/div/div/input')\n",
    "search.send_keys('sneakers')"
   ]
  },
  {
   "cell_type": "code",
   "execution_count": 94,
   "id": "e653d5b5",
   "metadata": {},
   "outputs": [],
   "source": [
    "click_button=driver.find_element(By.XPATH,'//button[@class=\"L0Z3Pu\"]')\n",
    "click_button.click()"
   ]
  },
  {
   "cell_type": "code",
   "execution_count": 97,
   "id": "89f7d0df",
   "metadata": {},
   "outputs": [],
   "source": [
    "#creat list\n",
    "Brand=[]\n",
    "ProductDescription=[]\n",
    "Price=[]"
   ]
  },
  {
   "cell_type": "code",
   "execution_count": 98,
   "id": "904bd4c3",
   "metadata": {},
   "outputs": [],
   "source": [
    "#scraping values for brand name from the page\n",
    "start=0\n",
    "end=3\n",
    "\n",
    "for page in range(start,end):\n",
    "    brand=driver.find_elements(By.XPATH,'//div[@class=\"_2WkVRV\"]')\n",
    "    for i in brand:\n",
    "        Brand.append(i.text)\n",
    "    next_button=driver.find_element(By.XPATH,'//a[@class=\"_1LKTO3\"]')\n",
    "    next_button.click()\n",
    "    time.sleep(3)"
   ]
  },
  {
   "cell_type": "code",
   "execution_count": 99,
   "id": "c2734974",
   "metadata": {},
   "outputs": [
    {
     "data": {
      "text/plain": [
       "120"
      ]
     },
     "execution_count": 99,
     "metadata": {},
     "output_type": "execute_result"
    }
   ],
   "source": [
    "len(Brand)"
   ]
  },
  {
   "cell_type": "code",
   "execution_count": 100,
   "id": "729c0ea8",
   "metadata": {},
   "outputs": [],
   "source": [
    "Brand=Brand[:100]"
   ]
  },
  {
   "cell_type": "code",
   "execution_count": 101,
   "id": "8990605e",
   "metadata": {},
   "outputs": [
    {
     "data": {
      "text/plain": [
       "100"
      ]
     },
     "execution_count": 101,
     "metadata": {},
     "output_type": "execute_result"
    }
   ],
   "source": [
    "len(Brand)"
   ]
  },
  {
   "cell_type": "code",
   "execution_count": 102,
   "id": "9a652e9f",
   "metadata": {},
   "outputs": [],
   "source": [
    "#scraping values for product description from the page \n",
    "start=0\n",
    "end=3\n",
    "\n",
    "for page in range(start,end):\n",
    "    pd=driver.find_elements(By.XPATH,'//div[@class=\"_30jeq3\"]')\n",
    "    for i in pd:\n",
    "        ProductDescription.append(i.text)\n",
    "    next_button=driver.find_element(By.XPATH,'//a[@class=\"_1LKTO3\"]')\n",
    "    next_button.click()\n",
    "    time.sleep(3)"
   ]
  },
  {
   "cell_type": "code",
   "execution_count": 103,
   "id": "fe11c45a",
   "metadata": {},
   "outputs": [
    {
     "data": {
      "text/plain": [
       "120"
      ]
     },
     "execution_count": 103,
     "metadata": {},
     "output_type": "execute_result"
    }
   ],
   "source": [
    "len(ProductDescription)"
   ]
  },
  {
   "cell_type": "code",
   "execution_count": 104,
   "id": "eacc0f98",
   "metadata": {},
   "outputs": [],
   "source": [
    "ProductDescription=ProductDescription[:100]"
   ]
  },
  {
   "cell_type": "code",
   "execution_count": 105,
   "id": "bbe140f9",
   "metadata": {},
   "outputs": [
    {
     "data": {
      "text/plain": [
       "100"
      ]
     },
     "execution_count": 105,
     "metadata": {},
     "output_type": "execute_result"
    }
   ],
   "source": [
    "len(ProductDescription)"
   ]
  },
  {
   "cell_type": "code",
   "execution_count": 106,
   "id": "d8915b0e",
   "metadata": {},
   "outputs": [],
   "source": [
    "#scraping values for price from the page \n",
    "start=0\n",
    "end=3\n",
    "\n",
    "for page in range(start,end):\n",
    "    price_r=driver.find_elements(By.XPATH,'//div[@class=\"_30jeq3\"]')\n",
    "    for i in price_r:\n",
    "        Price.append(i.text)\n",
    "    next_button=driver.find_element(By.XPATH,'//a[@class=\"_1LKTO3\"]')\n",
    "    next_button.click()\n",
    "    time.sleep(3)"
   ]
  },
  {
   "cell_type": "code",
   "execution_count": 107,
   "id": "4c5beb6d",
   "metadata": {},
   "outputs": [
    {
     "data": {
      "text/plain": [
       "120"
      ]
     },
     "execution_count": 107,
     "metadata": {},
     "output_type": "execute_result"
    }
   ],
   "source": [
    "len(Price)"
   ]
  },
  {
   "cell_type": "code",
   "execution_count": 108,
   "id": "cbdf4db0",
   "metadata": {},
   "outputs": [],
   "source": [
    "Price=Price[:100]"
   ]
  },
  {
   "cell_type": "code",
   "execution_count": 109,
   "id": "2fe33ee5",
   "metadata": {},
   "outputs": [
    {
     "data": {
      "text/plain": [
       "100"
      ]
     },
     "execution_count": 109,
     "metadata": {},
     "output_type": "execute_result"
    }
   ],
   "source": [
    "len(Price)"
   ]
  },
  {
   "cell_type": "code",
   "execution_count": 110,
   "id": "3f14d4be",
   "metadata": {},
   "outputs": [
    {
     "data": {
      "text/html": [
       "<div>\n",
       "<style scoped>\n",
       "    .dataframe tbody tr th:only-of-type {\n",
       "        vertical-align: middle;\n",
       "    }\n",
       "\n",
       "    .dataframe tbody tr th {\n",
       "        vertical-align: top;\n",
       "    }\n",
       "\n",
       "    .dataframe thead th {\n",
       "        text-align: right;\n",
       "    }\n",
       "</style>\n",
       "<table border=\"1\" class=\"dataframe\">\n",
       "  <thead>\n",
       "    <tr style=\"text-align: right;\">\n",
       "      <th></th>\n",
       "      <th>Brand Name</th>\n",
       "      <th>Product Description</th>\n",
       "      <th>Price</th>\n",
       "    </tr>\n",
       "  </thead>\n",
       "  <tbody>\n",
       "    <tr>\n",
       "      <th>0</th>\n",
       "      <td>KNIGHT WALKERS</td>\n",
       "      <td>₹3,023</td>\n",
       "      <td>₹258</td>\n",
       "    </tr>\n",
       "    <tr>\n",
       "      <th>1</th>\n",
       "      <td>Zixer</td>\n",
       "      <td>₹399</td>\n",
       "      <td>₹473</td>\n",
       "    </tr>\n",
       "    <tr>\n",
       "      <th>2</th>\n",
       "      <td>Shozie</td>\n",
       "      <td>₹299</td>\n",
       "      <td>₹374</td>\n",
       "    </tr>\n",
       "    <tr>\n",
       "      <th>3</th>\n",
       "      <td>Sparx</td>\n",
       "      <td>₹384</td>\n",
       "      <td>₹629</td>\n",
       "    </tr>\n",
       "    <tr>\n",
       "      <th>4</th>\n",
       "      <td>BERSACHE</td>\n",
       "      <td>₹499</td>\n",
       "      <td>₹549</td>\n",
       "    </tr>\n",
       "    <tr>\n",
       "      <th>...</th>\n",
       "      <td>...</td>\n",
       "      <td>...</td>\n",
       "      <td>...</td>\n",
       "    </tr>\n",
       "    <tr>\n",
       "      <th>95</th>\n",
       "      <td>Nilatin</td>\n",
       "      <td>₹563</td>\n",
       "      <td>₹945</td>\n",
       "    </tr>\n",
       "    <tr>\n",
       "      <th>96</th>\n",
       "      <td>Asian Shoes</td>\n",
       "      <td>₹1,649</td>\n",
       "      <td>₹449</td>\n",
       "    </tr>\n",
       "    <tr>\n",
       "      <th>97</th>\n",
       "      <td>Layasa</td>\n",
       "      <td>₹1,649</td>\n",
       "      <td>₹299</td>\n",
       "    </tr>\n",
       "    <tr>\n",
       "      <th>98</th>\n",
       "      <td>Layasa</td>\n",
       "      <td>₹1,799</td>\n",
       "      <td>₹389</td>\n",
       "    </tr>\n",
       "    <tr>\n",
       "      <th>99</th>\n",
       "      <td>RapidBox</td>\n",
       "      <td>₹606</td>\n",
       "      <td>₹499</td>\n",
       "    </tr>\n",
       "  </tbody>\n",
       "</table>\n",
       "<p>100 rows × 3 columns</p>\n",
       "</div>"
      ],
      "text/plain": [
       "        Brand Name Product Description Price\n",
       "0   KNIGHT WALKERS              ₹3,023  ₹258\n",
       "1            Zixer                ₹399  ₹473\n",
       "2           Shozie                ₹299  ₹374\n",
       "3            Sparx                ₹384  ₹629\n",
       "4         BERSACHE                ₹499  ₹549\n",
       "..             ...                 ...   ...\n",
       "95         Nilatin                ₹563  ₹945\n",
       "96     Asian Shoes              ₹1,649  ₹449\n",
       "97          Layasa              ₹1,649  ₹299\n",
       "98          Layasa              ₹1,799  ₹389\n",
       "99        RapidBox                ₹606  ₹499\n",
       "\n",
       "[100 rows x 3 columns]"
      ]
     },
     "execution_count": 110,
     "metadata": {},
     "output_type": "execute_result"
    }
   ],
   "source": [
    "import pandas as pd\n",
    "df=pd.DataFrame({'Brand Name':Brand, 'Product Description':ProductDescription, 'Price':Price,})\n",
    "df"
   ]
  },
  {
   "cell_type": "code",
   "execution_count": null,
   "id": "9260c314",
   "metadata": {},
   "outputs": [],
   "source": []
  },
  {
   "cell_type": "markdown",
   "id": "78aab3da",
   "metadata": {},
   "source": [
    "Q7: Go to webpage https://www.amazon.in/ Enter “Laptop” in the search field and then click the search icon. Then\n",
    "set CPU Type filter to “Intel Core i7” as shown in the below image-\n",
    "\n",
    "After setting the filters scrape first 10 laptops data. You have to scrape 3 attributes for each laptop:\n",
    "1. Title\n",
    "2. Ratings\n",
    "3. Price\n"
   ]
  },
  {
   "cell_type": "code",
   "execution_count": 113,
   "id": "4783bfc7",
   "metadata": {},
   "outputs": [],
   "source": [
    "#connecting to the driver\n",
    "driver=webdriver.Chrome(r\"chromedriver.exe\")"
   ]
  },
  {
   "cell_type": "code",
   "execution_count": 114,
   "id": "295d7d72",
   "metadata": {},
   "outputs": [],
   "source": [
    "#opening the web page in driver\n",
    "driver.get('https://www.amazon.in/')"
   ]
  },
  {
   "cell_type": "code",
   "execution_count": 115,
   "id": "16d1ec6d",
   "metadata": {},
   "outputs": [],
   "source": [
    "#search for laptop on the web page\n",
    "search=driver.find_element(By.XPATH,'/html/body/div[1]/header/div/div[1]/div[2]/div/form/div[2]/div[1]/input')\n",
    "search.send_keys('Laptop')"
   ]
  },
  {
   "cell_type": "code",
   "execution_count": 116,
   "id": "5e724cdc",
   "metadata": {},
   "outputs": [],
   "source": [
    "search_button=driver.find_element(By.XPATH,'//div[@class=\"nav-search-submit nav-sprite\"]')\n",
    "search_button.click()"
   ]
  },
  {
   "cell_type": "code",
   "execution_count": 117,
   "id": "14a0a8cf",
   "metadata": {},
   "outputs": [],
   "source": [
    "#applying cpu filter\n",
    "cpu=driver.find_element(By.XPATH,'/html/body/div[1]/div[2]/div[1]/div[2]/div/div[3]/span/div[1]/div/div/div[6]/ul[6]/li[12]/span/a/span')\n",
    "cpu.click()"
   ]
  },
  {
   "cell_type": "code",
   "execution_count": 118,
   "id": "3d7ad5e6",
   "metadata": {},
   "outputs": [],
   "source": [
    "#create list\n",
    "Title=[]\n",
    "Ratings=[]\n",
    "Price=[]"
   ]
  },
  {
   "cell_type": "code",
   "execution_count": 119,
   "id": "d71cb026",
   "metadata": {},
   "outputs": [
    {
     "data": {
      "text/plain": [
       "['Dell G15-5520 Gaming Laptop, Intel i9-12900H, 16GB DDR5, 1TB SSD, NVIDIA GEFORCE RTX 3060 (6GB GDDR6), 15.6\" (39.62Cms) FHD WVA AG, Win 11+ MSO\\'21, Dark Shadow Grey (D560897WIN9S, 2.81Kgs)',\n",
       " 'Acer Predator Helios 500 Gaming Laptop (11Th Gen Intel Core I9/17.3 Inches 4K Uhd Display/64Gb Ddr4 Ram/2Tb Ssd/1Tb HDD/RTX 3080 Graphics/Windows 10 Home/Per Key RGB Backlit Keyboard) Ph517-52',\n",
       " 'ASUS Vivobook Pro 16, Intel Core i9 11th Gen, 16\" (40.64 cm) FHD+ 120Hz, Thin & Light Laptop (16GB/512GB SSD/4GB RTX 3050/Win 11/Office 2021/Alexa/Backlit KB/FP Sensor/Blue/1.9 kg), K6602HC-N1901WS',\n",
       " 'ASUS ROG Strix Scar 15 (2022), 15.6\" (39.62 cm) WQHD 240Hz/3ms, Intel Core i9-12900H 12th Gen, 8GB RTX 3070 Ti, Gaming Laptop (32GB/1TB SSD/Windows 11/Office 2021/Black/2.3 Kg), G533ZWZ-LN136WS',\n",
       " 'ASUS Zenbook Pro 14 Duo OLED (2022) Dual Screen Laptop, 14.5\" (36.83 cm) 2.8K OLED 120Hz Touch, Intel EVO Core i9 12th Gen, (32GB/1TB SSD/4GB RTX 3050 Ti/Win 11/Office/Black/1.75 Kg) UX8402ZE-LM921WS',\n",
       " 'Acer Predator Helios 300 Gaming Laptop Intel Core i9 11th Gen Processor - (16 GB/1TB SSD/ NVIDIA RTX 3060/165Hz/Windows 11 Home) PH315-54 with 39.6 cm (15.6 inches) QHD IPS Display/ 2.3 kgs',\n",
       " 'ASUS ProArt Studiobook 16 OLED (2022) Dial, 16.0\" (40.64 cm) 4K OLED, Intel Core i9 12th Gen, Laptop (32GB/1TB SSD/8GB RTX 3070 Ti Graphics/Win 11/Office 2021/Black/2.4 Kg), H7600ZW-L911WS',\n",
       " 'ASUS ROG Strix Scar 15 (2022), 15.6\" (39.62 cm) WQHD 240Hz/3ms, Intel Core i9-12900H 12th Gen, 16GB RTX 3080 Ti, Gaming Laptop (32GB/1TB SSD/Windows 11/Office 2021/Black/2.3 Kg), G533ZXZ-LN116WS',\n",
       " 'Dell Alienware X17 R1 Gaming Laptop, Intel Core i9-11980HK, 32Gb, 1TB SSD, 17.3\" (43.94 Cms) FHD1ms 360Hz, NVIDIA RTX 3080 (16GB GDDR6). Windows 11 + MSO\\'21, Lunar Light (D569936WIN9, 3.02Kgs)',\n",
       " 'Dell New Alienware x15 R2 Gaming Laptop, Intel i9-12900H, Win11+MSO\\'21 , 32GB LP DDR5, 1TB SSD, NVIDIA RTX 3080 Ti (16GB GDDR6), 15.6\" (39.62Cms) FHD 360Hz 300nits, AlienFX KB (D569942WIN9, 2.34Kgs)']"
      ]
     },
     "execution_count": 119,
     "metadata": {},
     "output_type": "execute_result"
    }
   ],
   "source": [
    "#scraping title values from the web page\n",
    "title=driver.find_elements(By.XPATH,'//span[@class=\"a-size-medium a-color-base a-text-normal\"]')\n",
    "for i in title[0:10] :\n",
    "    title=i.text\n",
    "    Title.append(title)\n",
    "    \n",
    "Title"
   ]
  },
  {
   "cell_type": "code",
   "execution_count": 120,
   "id": "7e9038e9",
   "metadata": {},
   "outputs": [
    {
     "data": {
      "text/plain": [
       "10"
      ]
     },
     "execution_count": 120,
     "metadata": {},
     "output_type": "execute_result"
    }
   ],
   "source": [
    "len(Title)"
   ]
  },
  {
   "cell_type": "code",
   "execution_count": 121,
   "id": "dd73d42b",
   "metadata": {},
   "outputs": [
    {
     "data": {
      "text/plain": [
       "['4.2', '4.2', '3.3', '5.0', '2.4', '4.0', '4.5', '3.0', '3.3', '3.8']"
      ]
     },
     "execution_count": 121,
     "metadata": {},
     "output_type": "execute_result"
    }
   ],
   "source": [
    "#scraping ratings values from the web page\n",
    "ratings=driver.find_elements(By.XPATH,'//span[@class=\"a-size-base\"]')\n",
    "for i in ratings[0:10]:\n",
    "    ratings=i.text\n",
    "    Ratings.append(ratings)\n",
    "    \n",
    "Ratings"
   ]
  },
  {
   "cell_type": "code",
   "execution_count": 122,
   "id": "802706f0",
   "metadata": {},
   "outputs": [
    {
     "data": {
      "text/plain": [
       "10"
      ]
     },
     "execution_count": 122,
     "metadata": {},
     "output_type": "execute_result"
    }
   ],
   "source": [
    "len(Ratings)"
   ]
  },
  {
   "cell_type": "code",
   "execution_count": 123,
   "id": "96dea588",
   "metadata": {},
   "outputs": [
    {
     "data": {
      "text/plain": [
       "['1,38,990',\n",
       " '4,32,159',\n",
       " '86,990',\n",
       " '2,29,990',\n",
       " '1,79,990',\n",
       " '1,19,990',\n",
       " '2,49,990',\n",
       " '2,81,990',\n",
       " '2,97,799',\n",
       " '3,56,600']"
      ]
     },
     "execution_count": 123,
     "metadata": {},
     "output_type": "execute_result"
    }
   ],
   "source": [
    "#scraping price values from the web page\n",
    "price=driver.find_elements(By.XPATH,'//span[@class=\"a-price-whole\"]')\n",
    "for i in price[0:10]:\n",
    "    price=i.text\n",
    "    Price.append(price)\n",
    "    \n",
    "Price"
   ]
  },
  {
   "cell_type": "code",
   "execution_count": 124,
   "id": "5e87dabe",
   "metadata": {},
   "outputs": [
    {
     "data": {
      "text/plain": [
       "10"
      ]
     },
     "execution_count": 124,
     "metadata": {},
     "output_type": "execute_result"
    }
   ],
   "source": [
    "len(Price)"
   ]
  },
  {
   "cell_type": "code",
   "execution_count": 125,
   "id": "95319687",
   "metadata": {},
   "outputs": [
    {
     "data": {
      "text/html": [
       "<div>\n",
       "<style scoped>\n",
       "    .dataframe tbody tr th:only-of-type {\n",
       "        vertical-align: middle;\n",
       "    }\n",
       "\n",
       "    .dataframe tbody tr th {\n",
       "        vertical-align: top;\n",
       "    }\n",
       "\n",
       "    .dataframe thead th {\n",
       "        text-align: right;\n",
       "    }\n",
       "</style>\n",
       "<table border=\"1\" class=\"dataframe\">\n",
       "  <thead>\n",
       "    <tr style=\"text-align: right;\">\n",
       "      <th></th>\n",
       "      <th>Title</th>\n",
       "      <th>Ratings</th>\n",
       "      <th>Price</th>\n",
       "    </tr>\n",
       "  </thead>\n",
       "  <tbody>\n",
       "    <tr>\n",
       "      <th>0</th>\n",
       "      <td>Dell G15-5520 Gaming Laptop, Intel i9-12900H, ...</td>\n",
       "      <td>4.2</td>\n",
       "      <td>1,38,990</td>\n",
       "    </tr>\n",
       "    <tr>\n",
       "      <th>1</th>\n",
       "      <td>Acer Predator Helios 500 Gaming Laptop (11Th G...</td>\n",
       "      <td>4.2</td>\n",
       "      <td>4,32,159</td>\n",
       "    </tr>\n",
       "    <tr>\n",
       "      <th>2</th>\n",
       "      <td>ASUS Vivobook Pro 16, Intel Core i9 11th Gen, ...</td>\n",
       "      <td>3.3</td>\n",
       "      <td>86,990</td>\n",
       "    </tr>\n",
       "    <tr>\n",
       "      <th>3</th>\n",
       "      <td>ASUS ROG Strix Scar 15 (2022), 15.6\" (39.62 cm...</td>\n",
       "      <td>5.0</td>\n",
       "      <td>2,29,990</td>\n",
       "    </tr>\n",
       "    <tr>\n",
       "      <th>4</th>\n",
       "      <td>ASUS Zenbook Pro 14 Duo OLED (2022) Dual Scree...</td>\n",
       "      <td>2.4</td>\n",
       "      <td>1,79,990</td>\n",
       "    </tr>\n",
       "    <tr>\n",
       "      <th>5</th>\n",
       "      <td>Acer Predator Helios 300 Gaming Laptop Intel C...</td>\n",
       "      <td>4.0</td>\n",
       "      <td>1,19,990</td>\n",
       "    </tr>\n",
       "    <tr>\n",
       "      <th>6</th>\n",
       "      <td>ASUS ProArt Studiobook 16 OLED (2022) Dial, 16...</td>\n",
       "      <td>4.5</td>\n",
       "      <td>2,49,990</td>\n",
       "    </tr>\n",
       "    <tr>\n",
       "      <th>7</th>\n",
       "      <td>ASUS ROG Strix Scar 15 (2022), 15.6\" (39.62 cm...</td>\n",
       "      <td>3.0</td>\n",
       "      <td>2,81,990</td>\n",
       "    </tr>\n",
       "    <tr>\n",
       "      <th>8</th>\n",
       "      <td>Dell Alienware X17 R1 Gaming Laptop, Intel Cor...</td>\n",
       "      <td>3.3</td>\n",
       "      <td>2,97,799</td>\n",
       "    </tr>\n",
       "    <tr>\n",
       "      <th>9</th>\n",
       "      <td>Dell New Alienware x15 R2 Gaming Laptop, Intel...</td>\n",
       "      <td>3.8</td>\n",
       "      <td>3,56,600</td>\n",
       "    </tr>\n",
       "  </tbody>\n",
       "</table>\n",
       "</div>"
      ],
      "text/plain": [
       "                                               Title Ratings     Price\n",
       "0  Dell G15-5520 Gaming Laptop, Intel i9-12900H, ...     4.2  1,38,990\n",
       "1  Acer Predator Helios 500 Gaming Laptop (11Th G...     4.2  4,32,159\n",
       "2  ASUS Vivobook Pro 16, Intel Core i9 11th Gen, ...     3.3    86,990\n",
       "3  ASUS ROG Strix Scar 15 (2022), 15.6\" (39.62 cm...     5.0  2,29,990\n",
       "4  ASUS Zenbook Pro 14 Duo OLED (2022) Dual Scree...     2.4  1,79,990\n",
       "5  Acer Predator Helios 300 Gaming Laptop Intel C...     4.0  1,19,990\n",
       "6  ASUS ProArt Studiobook 16 OLED (2022) Dial, 16...     4.5  2,49,990\n",
       "7  ASUS ROG Strix Scar 15 (2022), 15.6\" (39.62 cm...     3.0  2,81,990\n",
       "8  Dell Alienware X17 R1 Gaming Laptop, Intel Cor...     3.3  2,97,799\n",
       "9  Dell New Alienware x15 R2 Gaming Laptop, Intel...     3.8  3,56,600"
      ]
     },
     "execution_count": 125,
     "metadata": {},
     "output_type": "execute_result"
    }
   ],
   "source": [
    "import pandas as pd\n",
    "pd=pd.DataFrame({'Title':Title, 'Ratings':Ratings, 'Price':Price})\n",
    "pd"
   ]
  },
  {
   "cell_type": "code",
   "execution_count": null,
   "id": "6365c7e5",
   "metadata": {},
   "outputs": [],
   "source": []
  },
  {
   "cell_type": "markdown",
   "id": "faec862e",
   "metadata": {},
   "source": [
    "Q8: Write a python program to scrape data for Top 1000 Quotes of All Time.\n",
    "The above task will be done in following steps:\n",
    "1. First get the webpagehttps://www.azquotes.com/\n",
    "2. Click on TopQuotes\n",
    "3. Than scrap a) Quote b) Author c) Type Of Quotes"
   ]
  },
  {
   "cell_type": "code",
   "execution_count": 126,
   "id": "8a6b6584",
   "metadata": {},
   "outputs": [],
   "source": [
    "#connecting to the driver\n",
    "driver=webdriver.Chrome(r\"chromedriver.exe\")"
   ]
  },
  {
   "cell_type": "code",
   "execution_count": 127,
   "id": "e5cc33ea",
   "metadata": {},
   "outputs": [],
   "source": [
    "#opening web page in the driver\n",
    "driver.get('https://www.azquotes.com/')"
   ]
  },
  {
   "cell_type": "code",
   "execution_count": 128,
   "id": "3e409be9",
   "metadata": {},
   "outputs": [],
   "source": [
    "#click on top quotes\n",
    "top=driver.find_element(By.XPATH,'/html/body/div[1]/div[1]/div[1]/div/div[3]/ul/li[5]/a')\n",
    "top.click()\n"
   ]
  },
  {
   "cell_type": "code",
   "execution_count": 129,
   "id": "8396a638",
   "metadata": {},
   "outputs": [],
   "source": [
    "#create list\n",
    "Quote=[]\n",
    "Author=[]\n",
    "Type_Of_Quotes=[]"
   ]
  },
  {
   "cell_type": "code",
   "execution_count": 130,
   "id": "cb43ab59",
   "metadata": {},
   "outputs": [],
   "source": [
    "#scraping quote values from the page \n",
    "start=0\n",
    "end=9\n",
    "\n",
    "for page in range(start,end):\n",
    "    quote=driver.find_elements(By.XPATH,'//a[@class=\"title\"]')\n",
    "    for i in quote:\n",
    "        Quote.append(i.text)\n",
    "    next_button=driver.find_element(By.XPATH,'//li[@class=\"next\"]')\n",
    "    next_button.click()\n",
    "    time.sleep(3)"
   ]
  },
  {
   "cell_type": "code",
   "execution_count": 133,
   "id": "f2b9e0a1",
   "metadata": {},
   "outputs": [
    {
     "data": {
      "text/plain": [
       "900"
      ]
     },
     "execution_count": 133,
     "metadata": {},
     "output_type": "execute_result"
    }
   ],
   "source": [
    "len(Quote)"
   ]
  },
  {
   "cell_type": "code",
   "execution_count": 135,
   "id": "383d46c3",
   "metadata": {},
   "outputs": [],
   "source": [
    "#scraping quote values from the page \n",
    "start=0\n",
    "end=9\n",
    "\n",
    "for page in range(start,end):\n",
    "    author=driver.find_elements(By.XPATH,'//div[@class=\"author\"]')\n",
    "    for i in author:\n",
    "        Author.append(i.text)\n",
    "    next_button=driver.find_element(By.XPATH,'//li[@class=\"next\"]')\n",
    "    next_button.click()\n",
    "    time.sleep(3)"
   ]
  },
  {
   "cell_type": "code",
   "execution_count": 136,
   "id": "0f62d265",
   "metadata": {},
   "outputs": [
    {
     "data": {
      "text/plain": [
       "1100"
      ]
     },
     "execution_count": 136,
     "metadata": {},
     "output_type": "execute_result"
    }
   ],
   "source": [
    "len(Author)"
   ]
  },
  {
   "cell_type": "code",
   "execution_count": 137,
   "id": "c6c3d3e2",
   "metadata": {},
   "outputs": [],
   "source": [
    "Author=Author[:900]"
   ]
  },
  {
   "cell_type": "code",
   "execution_count": 138,
   "id": "b41dbba8",
   "metadata": {},
   "outputs": [
    {
     "data": {
      "text/plain": [
       "900"
      ]
     },
     "execution_count": 138,
     "metadata": {},
     "output_type": "execute_result"
    }
   ],
   "source": [
    "len(Author)"
   ]
  },
  {
   "cell_type": "code",
   "execution_count": 140,
   "id": "c6fd6914",
   "metadata": {},
   "outputs": [],
   "source": [
    "#scraping quote values from the page \n",
    "start=0\n",
    "end=9\n",
    "\n",
    "for page in range(start,end):\n",
    "    toq=driver.find_elements(By.XPATH,'//div[@class=\"tags\"]')\n",
    "    for i in toq:\n",
    "        Type_Of_Quotes.append(i.text)\n",
    "    next_button=driver.find_element(By.XPATH,'//li[@class=\"next\"]')\n",
    "    next_button.click()\n",
    "    time.sleep(3)"
   ]
  },
  {
   "cell_type": "code",
   "execution_count": 141,
   "id": "1f98b78b",
   "metadata": {},
   "outputs": [
    {
     "data": {
      "text/plain": [
       "1000"
      ]
     },
     "execution_count": 141,
     "metadata": {},
     "output_type": "execute_result"
    }
   ],
   "source": [
    "len(Type_Of_Quotes)"
   ]
  },
  {
   "cell_type": "code",
   "execution_count": 142,
   "id": "5deb89ed",
   "metadata": {},
   "outputs": [],
   "source": [
    "Type_Of_Quotes=Type_Of_Quotes[:900]"
   ]
  },
  {
   "cell_type": "code",
   "execution_count": 143,
   "id": "46bd368f",
   "metadata": {},
   "outputs": [
    {
     "data": {
      "text/plain": [
       "900"
      ]
     },
     "execution_count": 143,
     "metadata": {},
     "output_type": "execute_result"
    }
   ],
   "source": [
    "len(Type_Of_Quotes)"
   ]
  },
  {
   "cell_type": "code",
   "execution_count": 144,
   "id": "1d9c924d",
   "metadata": {
    "scrolled": true
   },
   "outputs": [
    {
     "data": {
      "text/html": [
       "<div>\n",
       "<style scoped>\n",
       "    .dataframe tbody tr th:only-of-type {\n",
       "        vertical-align: middle;\n",
       "    }\n",
       "\n",
       "    .dataframe tbody tr th {\n",
       "        vertical-align: top;\n",
       "    }\n",
       "\n",
       "    .dataframe thead th {\n",
       "        text-align: right;\n",
       "    }\n",
       "</style>\n",
       "<table border=\"1\" class=\"dataframe\">\n",
       "  <thead>\n",
       "    <tr style=\"text-align: right;\">\n",
       "      <th></th>\n",
       "      <th>Quote</th>\n",
       "      <th>Author</th>\n",
       "      <th>Type Of Quotes</th>\n",
       "    </tr>\n",
       "  </thead>\n",
       "  <tbody>\n",
       "    <tr>\n",
       "      <th>0</th>\n",
       "      <td>The essence of strategy is choosing what not t...</td>\n",
       "      <td>Amelia Earhart</td>\n",
       "      <td>Inspirational, Life, Success</td>\n",
       "    </tr>\n",
       "    <tr>\n",
       "      <th>1</th>\n",
       "      <td>One cannot and must not try to erase the past ...</td>\n",
       "      <td>Ludwig von Mises</td>\n",
       "      <td>Peace, War, Government</td>\n",
       "    </tr>\n",
       "    <tr>\n",
       "      <th>2</th>\n",
       "      <td>Patriotism means to stand by the country. It d...</td>\n",
       "      <td>Elizabeth Cady Stanton</td>\n",
       "      <td>Life, Strength, Courage</td>\n",
       "    </tr>\n",
       "    <tr>\n",
       "      <th>3</th>\n",
       "      <td>Death is something inevitable. When a man has ...</td>\n",
       "      <td>Benjamin Spock</td>\n",
       "      <td>Positive, Family, Trust</td>\n",
       "    </tr>\n",
       "    <tr>\n",
       "      <th>4</th>\n",
       "      <td>You have to love a nation that celebrates its ...</td>\n",
       "      <td>Charles Kettering</td>\n",
       "      <td>Inspirational, Motivational, Teacher</td>\n",
       "    </tr>\n",
       "    <tr>\n",
       "      <th>...</th>\n",
       "      <td>...</td>\n",
       "      <td>...</td>\n",
       "      <td>...</td>\n",
       "    </tr>\n",
       "    <tr>\n",
       "      <th>895</th>\n",
       "      <td>To love means loving the unlovable. To forgive...</td>\n",
       "      <td>Thomas Fuller</td>\n",
       "      <td>Inspirational, Funny, Dog</td>\n",
       "    </tr>\n",
       "    <tr>\n",
       "      <th>896</th>\n",
       "      <td>If you really want to do something, you'll fin...</td>\n",
       "      <td>Theodore Roosevelt</td>\n",
       "      <td>Reality, Servant Of God, Careers</td>\n",
       "    </tr>\n",
       "    <tr>\n",
       "      <th>897</th>\n",
       "      <td>Be brave. Take risks. Nothing can substitute e...</td>\n",
       "      <td>Anna Quindlen</td>\n",
       "      <td>Wisdom, Religious, Freedom</td>\n",
       "    </tr>\n",
       "    <tr>\n",
       "      <th>898</th>\n",
       "      <td>It is neither wealth nor splendor; but tranqui...</td>\n",
       "      <td>Wayne Dyer</td>\n",
       "      <td>Inspirational, Motivational, Success</td>\n",
       "    </tr>\n",
       "    <tr>\n",
       "      <th>899</th>\n",
       "      <td>A thousand words will not leave so deep an imp...</td>\n",
       "      <td>Paul Tournier</td>\n",
       "      <td>Friendship, Teamwork, Mom</td>\n",
       "    </tr>\n",
       "  </tbody>\n",
       "</table>\n",
       "<p>900 rows × 3 columns</p>\n",
       "</div>"
      ],
      "text/plain": [
       "                                                 Quote  \\\n",
       "0    The essence of strategy is choosing what not t...   \n",
       "1    One cannot and must not try to erase the past ...   \n",
       "2    Patriotism means to stand by the country. It d...   \n",
       "3    Death is something inevitable. When a man has ...   \n",
       "4    You have to love a nation that celebrates its ...   \n",
       "..                                                 ...   \n",
       "895  To love means loving the unlovable. To forgive...   \n",
       "896  If you really want to do something, you'll fin...   \n",
       "897  Be brave. Take risks. Nothing can substitute e...   \n",
       "898  It is neither wealth nor splendor; but tranqui...   \n",
       "899  A thousand words will not leave so deep an imp...   \n",
       "\n",
       "                     Author                        Type Of Quotes  \n",
       "0            Amelia Earhart          Inspirational, Life, Success  \n",
       "1          Ludwig von Mises                Peace, War, Government  \n",
       "2    Elizabeth Cady Stanton               Life, Strength, Courage  \n",
       "3            Benjamin Spock               Positive, Family, Trust  \n",
       "4         Charles Kettering  Inspirational, Motivational, Teacher  \n",
       "..                      ...                                   ...  \n",
       "895           Thomas Fuller             Inspirational, Funny, Dog  \n",
       "896      Theodore Roosevelt      Reality, Servant Of God, Careers  \n",
       "897           Anna Quindlen            Wisdom, Religious, Freedom  \n",
       "898              Wayne Dyer  Inspirational, Motivational, Success  \n",
       "899           Paul Tournier             Friendship, Teamwork, Mom  \n",
       "\n",
       "[900 rows x 3 columns]"
      ]
     },
     "execution_count": 144,
     "metadata": {},
     "output_type": "execute_result"
    }
   ],
   "source": [
    "import pandas as pd\n",
    "df=pd.DataFrame({'Quote':Quote, 'Author':Author, 'Type Of Quotes':Type_Of_Quotes})\n",
    "df"
   ]
  },
  {
   "cell_type": "code",
   "execution_count": null,
   "id": "a58d12a3",
   "metadata": {},
   "outputs": [],
   "source": []
  },
  {
   "cell_type": "markdown",
   "id": "d8cdd733",
   "metadata": {},
   "source": [
    "Q9: Write a python program to display list of respected former Prime Ministers of India(i.e. Name, Born-Dead,\n",
    "Term of office, Remarks) from https://www.jagranjosh.com/.\n",
    "This task will be done in following steps-\n",
    "\n",
    "1. First get the webpagehttps://www.jagranjosh.com/\n",
    "\n",
    "2. Then You have to click on the GK option\n",
    "\n",
    "3. Then click on the List of all Prime Ministers of India\n",
    "\n",
    "4. Then scrap the mentioned data and make theDataFrame."
   ]
  },
  {
   "cell_type": "code",
   "execution_count": 2,
   "id": "d7003054",
   "metadata": {},
   "outputs": [],
   "source": [
    "#Connecting to the driver\n",
    "\n",
    "driver=webdriver.Chrome(r\"chromedriver.exe\")"
   ]
  },
  {
   "cell_type": "code",
   "execution_count": 3,
   "id": "f04c8484",
   "metadata": {},
   "outputs": [],
   "source": [
    "#opening the page on automated chrome browser\n",
    "driver.get('http://www.jagranjosh.com/')"
   ]
  },
  {
   "cell_type": "code",
   "execution_count": 4,
   "id": "b1830985",
   "metadata": {},
   "outputs": [],
   "source": [
    "Name=[]\n",
    "Born_dead=[]\n",
    "Term_of_office=[]\n",
    "Remarks=[]"
   ]
  },
  {
   "cell_type": "code",
   "execution_count": 5,
   "id": "50c31b55",
   "metadata": {},
   "outputs": [],
   "source": [
    "#clicking on the gk section \n",
    "gk=driver.find_element(By.XPATH,'/html/body/div/div[1]/div/div[1]/div/div[6]/div/div[1]/header/div[3]/ul/li[9]/a')\n",
    "gk.click()"
   ]
  },
  {
   "cell_type": "code",
   "execution_count": 6,
   "id": "7a821aa6",
   "metadata": {},
   "outputs": [],
   "source": [
    "#clicking on the list of prime ministers of india \n",
    "pm=driver.find_element(By.XPATH,'/html/body/div/div/div/div[2]/div/div[14]/div/div/ul/li[3]/a')\n",
    "pm.click()"
   ]
  },
  {
   "cell_type": "code",
   "execution_count": 7,
   "id": "90d62fa0",
   "metadata": {},
   "outputs": [
    {
     "data": {
      "text/plain": [
       "['Jawahar Lal Nehru',\n",
       " 'Gulzarilal Nanda (Acting)',\n",
       " 'Lal Bahadur Shastri',\n",
       " 'Gulzari Lal Nanda  (Acting)',\n",
       " 'Indira Gandhi',\n",
       " 'Morarji Desai',\n",
       " 'Charan Singh',\n",
       " 'Indira Gandhi',\n",
       " 'Rajiv Gandhi',\n",
       " 'V. P. Singh',\n",
       " 'Chandra Shekhar',\n",
       " 'P. V. Narasimha Rao',\n",
       " 'Atal Bihari Vajpayee',\n",
       " 'H. D. Deve Gowda',\n",
       " 'Inder Kumar Gujral',\n",
       " 'Atal Bihari Vajpayee',\n",
       " 'Manmohan Singh',\n",
       " 'Narendra Modi']"
      ]
     },
     "execution_count": 7,
     "metadata": {},
     "output_type": "execute_result"
    }
   ],
   "source": [
    "#scraping name values from the web page \n",
    "name_tag=driver.find_elements(By.XPATH,'//div[@class=\"table-box\"]/table/tbody/tr/td[2]/p')\n",
    "for i in name_tag[0:50]:\n",
    "    name=i.text\n",
    "    Name.append(name)\n",
    "    \n",
    "Name"
   ]
  },
  {
   "cell_type": "code",
   "execution_count": 303,
   "id": "064157fa",
   "metadata": {},
   "outputs": [
    {
     "data": {
      "text/plain": [
       "['(1889–1964)',\n",
       " '(1898-1998)',\n",
       " '(1904–1966)',\n",
       " '(1898-1998)',\n",
       " '(1917–1984)',\n",
       " '(1896–1995)',\n",
       " '(1902–1987)',\n",
       " '(1917–1984)',\n",
       " '(1944–1991)',\n",
       " '(1931–2008)',\n",
       " '(1927–2007)',\n",
       " '(1921–2004)',\n",
       " '(1924- 2018)',\n",
       " '(born 1933)',\n",
       " '(1919–2012)',\n",
       " '(1924-2018)',\n",
       " '(born 1932)',\n",
       " '(born 1950)']"
      ]
     },
     "execution_count": 303,
     "metadata": {},
     "output_type": "execute_result"
    }
   ],
   "source": [
    "#scraping born-bead values from the web page \n",
    "born=driver.find_elements(By.XPATH,'//div[@class=\"table-box\"]/table/tbody/tr/td[3]/p')\n",
    "for i in born[0:50]:\n",
    "    b=i.text\n",
    "    Born_dead.append(b)\n",
    "\n",
    "Born_dead"
   ]
  },
  {
   "cell_type": "code",
   "execution_count": 305,
   "id": "7c728588",
   "metadata": {},
   "outputs": [
    {
     "data": {
      "text/plain": [
       "['15 August 1947 to 27 May 1964',\n",
       " '16 years, 286 days',\n",
       " '27 May 1964 to 9 June 1964,',\n",
       " '13 days',\n",
       " '9 June 1964 to 11 January 1966',\n",
       " '1 year, 216 days',\n",
       " '11 January 1966 to 24 January 1966',\n",
       " '13 days',\n",
       " '24 January 1966 to 24 March 1977',\n",
       " '11 years, 59 days',\n",
       " '24 March 1977 to  28 July 1979 ',\n",
       " '2 year, 126 days',\n",
       " '28 July 1979 to 14 January 1980',\n",
       " '170 days',\n",
       " '14 January 1980 to 31 October 1984',\n",
       " '4 years, 291 days',\n",
       " '31 October 1984 to 2 December 1989',\n",
       " '5 years, 32 days',\n",
       " '2 December 1989 to 10 November 1990',\n",
       " '343 days',\n",
       " '10 November 1990 to 21 June 1991',\n",
       " '223 days',\n",
       " '21 June 1991 to 16 May 1996',\n",
       " '4 years, 330 days',\n",
       " '16 May 1996 to 1 June 1996',\n",
       " '16 days',\n",
       " '1 June 1996 to 21 April 1997',\n",
       " '324 days',\n",
       " '21 April 1997 to 19 March 1998 ',\n",
       " '332 days',\n",
       " '19 March 1998 to 22 May 2004 ',\n",
       " '6 years, 64 days',\n",
       " '22 May 2004 to 26 May 2014   ',\n",
       " '10 years, 4 days',\n",
       " '26 May 2014 - Present',\n",
       " '15 August 1947 to 27 May 1964',\n",
       " '16 years, 286 days',\n",
       " '27 May 1964 to 9 June 1964,',\n",
       " '13 days',\n",
       " '9 June 1964 to 11 January 1966',\n",
       " '1 year, 216 days',\n",
       " '11 January 1966 to 24 January 1966',\n",
       " '13 days',\n",
       " '24 January 1966 to 24 March 1977',\n",
       " '11 years, 59 days',\n",
       " '24 March 1977 to  28 July 1979 ',\n",
       " '2 year, 126 days',\n",
       " '28 July 1979 to 14 January 1980',\n",
       " '170 days',\n",
       " '14 January 1980 to 31 October 1984',\n",
       " '4 years, 291 days',\n",
       " '31 October 1984 to 2 December 1989',\n",
       " '5 years, 32 days',\n",
       " '2 December 1989 to 10 November 1990',\n",
       " '343 days',\n",
       " '10 November 1990 to 21 June 1991',\n",
       " '223 days',\n",
       " '21 June 1991 to 16 May 1996',\n",
       " '4 years, 330 days',\n",
       " '16 May 1996 to 1 June 1996',\n",
       " '16 days',\n",
       " '1 June 1996 to 21 April 1997',\n",
       " '324 days',\n",
       " '21 April 1997 to 19 March 1998 ',\n",
       " '332 days',\n",
       " '19 March 1998 to 22 May 2004 ',\n",
       " '6 years, 64 days',\n",
       " '22 May 2004 to 26 May 2014   ',\n",
       " '10 years, 4 days',\n",
       " '26 May 2014 - Present']"
      ]
     },
     "execution_count": 305,
     "metadata": {},
     "output_type": "execute_result"
    }
   ],
   "source": [
    "#scraping term of office from the web page \n",
    "to=driver.find_elements(By.XPATH,'//div[@class=\"table-box\"]/table/tbody/tr/td[4]/p')\n",
    "for i in to[0:50]:\n",
    "    t=i.text\n",
    "    Term_of_office.append(t)\n",
    "    \n",
    "Term_of_office"
   ]
  },
  {
   "cell_type": "code",
   "execution_count": 312,
   "id": "59f6d703",
   "metadata": {},
   "outputs": [
    {
     "data": {
      "text/plain": [
       "['15 August 1947 to 27 May 1964',\n",
       " '16 years, 286 days',\n",
       " '27 May 1964 to 9 June 1964,',\n",
       " '13 days',\n",
       " '9 June 1964 to 11 January 1966',\n",
       " '1 year, 216 days',\n",
       " '11 January 1966 to 24 January 1966',\n",
       " '13 days',\n",
       " '24 January 1966 to 24 March 1977',\n",
       " '11 years, 59 days',\n",
       " '24 March 1977 to  28 July 1979 ',\n",
       " '2 year, 126 days',\n",
       " '28 July 1979 to 14 January 1980',\n",
       " '170 days',\n",
       " '14 January 1980 to 31 October 1984',\n",
       " '4 years, 291 days',\n",
       " '31 October 1984 to 2 December 1989',\n",
       " '5 years, 32 days',\n",
       " '2 December 1989 to 10 November 1990',\n",
       " '343 days',\n",
       " '10 November 1990 to 21 June 1991',\n",
       " '223 days',\n",
       " '21 June 1991 to 16 May 1996',\n",
       " '4 years, 330 days',\n",
       " '16 May 1996 to 1 June 1996',\n",
       " '16 days',\n",
       " '1 June 1996 to 21 April 1997',\n",
       " '324 days',\n",
       " '21 April 1997 to 19 March 1998 ',\n",
       " '332 days',\n",
       " '19 March 1998 to 22 May 2004 ',\n",
       " '6 years, 64 days',\n",
       " '22 May 2004 to 26 May 2014   ',\n",
       " '10 years, 4 days',\n",
       " '26 May 2014 - Present']"
      ]
     },
     "execution_count": 312,
     "metadata": {},
     "output_type": "execute_result"
    }
   ],
   "source": [
    "Term_of_office=Term_of_office[:35]\n",
    "Term_of_office"
   ]
  },
  {
   "cell_type": "code",
   "execution_count": 317,
   "id": "f28f8e6f",
   "metadata": {},
   "outputs": [],
   "source": [
    "Term_of_office.remove('16 years, 286 days')\n",
    "Term_of_office.remove('13 days')\n",
    "Term_of_office.remove('1 year, 216 days')\n",
    "Term_of_office.remove('13 days')\n",
    "Term_of_office.remove('11 years, 59 days')\n",
    "Term_of_office.remove('2 year, 126 days')\n",
    "Term_of_office.remove('170 days')\n",
    "Term_of_office.remove('4 years, 291 days')\n",
    "Term_of_office.remove('5 years, 32 days')\n",
    "Term_of_office.remove('343 days')\n",
    "Term_of_office.remove('223 days')\n",
    "Term_of_office.remove('4 years, 330 days')\n",
    "Term_of_office.remove('16 days')\n",
    "Term_of_office.remove('324 days')\n",
    "Term_of_office.remove('332 days')\n",
    "Term_of_office.remove('6 years, 64 days')\n",
    "Term_of_office.remove('10 years, 4 days')"
   ]
  },
  {
   "cell_type": "code",
   "execution_count": 318,
   "id": "b8b20c44",
   "metadata": {},
   "outputs": [
    {
     "data": {
      "text/plain": [
       "['15 August 1947 to 27 May 1964',\n",
       " '27 May 1964 to 9 June 1964,',\n",
       " '9 June 1964 to 11 January 1966',\n",
       " '11 January 1966 to 24 January 1966',\n",
       " '24 January 1966 to 24 March 1977',\n",
       " '24 March 1977 to  28 July 1979 ',\n",
       " '28 July 1979 to 14 January 1980',\n",
       " '14 January 1980 to 31 October 1984',\n",
       " '31 October 1984 to 2 December 1989',\n",
       " '2 December 1989 to 10 November 1990',\n",
       " '10 November 1990 to 21 June 1991',\n",
       " '21 June 1991 to 16 May 1996',\n",
       " '16 May 1996 to 1 June 1996',\n",
       " '1 June 1996 to 21 April 1997',\n",
       " '21 April 1997 to 19 March 1998 ',\n",
       " '19 March 1998 to 22 May 2004 ',\n",
       " '22 May 2004 to 26 May 2014   ',\n",
       " '26 May 2014 - Present']"
      ]
     },
     "execution_count": 318,
     "metadata": {},
     "output_type": "execute_result"
    }
   ],
   "source": [
    "Term_of_office"
   ]
  },
  {
   "cell_type": "code",
   "execution_count": 286,
   "id": "052bfd53",
   "metadata": {},
   "outputs": [
    {
     "data": {
      "text/plain": [
       "['15 August 1947 to 27 May 1964',\n",
       " '16 years, 286 days',\n",
       " '27 May 1964 to 9 June 1964,',\n",
       " '13 days',\n",
       " '9 June 1964 to 11 January 1966',\n",
       " '1 year, 216 days',\n",
       " '11 January 1966 to 24 January 1966',\n",
       " '13 days',\n",
       " '24 January 1966 to 24 March 1977',\n",
       " '11 years, 59 days',\n",
       " '24 March 1977 to  28 July 1979 ',\n",
       " '2 year, 126 days',\n",
       " '28 July 1979 to 14 January 1980',\n",
       " '170 days',\n",
       " '14 January 1980 to 31 October 1984',\n",
       " '4 years, 291 days',\n",
       " '31 October 1984 to 2 December 1989',\n",
       " '5 years, 32 days',\n",
       " '2 December 1989 to 10 November 1990',\n",
       " '343 days',\n",
       " '10 November 1990 to 21 June 1991',\n",
       " '223 days',\n",
       " '21 June 1991 to 16 May 1996',\n",
       " '4 years, 330 days',\n",
       " '16 May 1996 to 1 June 1996',\n",
       " '16 days',\n",
       " '1 June 1996 to 21 April 1997',\n",
       " '324 days',\n",
       " '21 April 1997 to 19 March 1998 ',\n",
       " '332 days',\n",
       " '19 March 1998 to 22 May 2004 ',\n",
       " '6 years, 64 days',\n",
       " '22 May 2004 to 26 May 2014   ',\n",
       " '10 years, 4 days',\n",
       " '26 May 2014 - Present',\n",
       " '15 August 1947 to 27 May 1964',\n",
       " '16 years, 286 days',\n",
       " '27 May 1964 to 9 June 1964,',\n",
       " '13 days',\n",
       " '9 June 1964 to 11 January 1966',\n",
       " '1 year, 216 days',\n",
       " '11 January 1966 to 24 January 1966',\n",
       " '13 days',\n",
       " '24 January 1966 to 24 March 1977',\n",
       " '11 years, 59 days',\n",
       " '24 March 1977 to  28 July 1979 ',\n",
       " '2 year, 126 days',\n",
       " '28 July 1979 to 14 January 1980',\n",
       " '170 days',\n",
       " '14 January 1980 to 31 October 1984',\n",
       " '4 years, 291 days',\n",
       " '31 October 1984 to 2 December 1989',\n",
       " '5 years, 32 days',\n",
       " '2 December 1989 to 10 November 1990',\n",
       " '343 days',\n",
       " '10 November 1990 to 21 June 1991',\n",
       " '223 days',\n",
       " '21 June 1991 to 16 May 1996',\n",
       " '4 years, 330 days',\n",
       " '16 May 1996 to 1 June 1996',\n",
       " '16 days',\n",
       " '1 June 1996 to 21 April 1997',\n",
       " '324 days',\n",
       " '21 April 1997 to 19 March 1998 ',\n",
       " '332 days',\n",
       " '19 March 1998 to 22 May 2004 ',\n",
       " '6 years, 64 days',\n",
       " '22 May 2004 to 26 May 2014   ',\n",
       " '10 years, 4 days',\n",
       " '26 May 2014 - Present',\n",
       " 'The first prime minister of India and the longest-serving PM of India, the first to die in office.',\n",
       " 'First acting PM of India',\n",
       " \"He has given the slogan of 'Jai Jawan Jai Kisan' during the Indo-Pak war of 1965\",\n",
       " '-',\n",
       " 'First female Prime Minister of India',\n",
       " 'Oldest to become PM (81 years old) and first to resign from office',\n",
       " 'Only PM who did not face the Parliament',\n",
       " 'The first lady who served as PM for the second term',\n",
       " 'Youngest to become PM (40 years old)',\n",
       " 'First PM to step down after a vote of no confidence',\n",
       " 'He belongs to  Samajwadi Janata Party',\n",
       " 'First PM from south India',\n",
       " 'PM for shortest tenure',\n",
       " 'He belongs to  Janata Dal',\n",
       " '------',\n",
       " ' The first non-congress PM who completed a full term as PM',\n",
       " ' First Sikh PM',\n",
       " '4th Prime Minister of India who served two consecutive tenures',\n",
       " 'The first prime minister of India and the longest-serving PM of India, the first to die in office.',\n",
       " 'First acting PM of India',\n",
       " \"He has given the slogan of 'Jai Jawan Jai Kisan' during the Indo-Pak war of 1965\",\n",
       " '-',\n",
       " 'First female Prime Minister of India',\n",
       " 'Oldest to become PM (81 years old) and first to resign from office',\n",
       " 'Only PM who did not face the Parliament',\n",
       " 'The first lady who served as PM for the second term',\n",
       " 'Youngest to become PM (40 years old)',\n",
       " 'First PM to step down after a vote of no confidence',\n",
       " 'He belongs to  Samajwadi Janata Party',\n",
       " 'First PM from south India',\n",
       " 'PM for shortest tenure',\n",
       " 'He belongs to  Janata Dal',\n",
       " '------',\n",
       " ' The first non-congress PM who completed a full term as PM',\n",
       " ' First Sikh PM',\n",
       " '4th Prime Minister of India who served two consecutive tenures',\n",
       " 'The first prime minister of India and the longest-serving PM of India, the first to die in office.',\n",
       " 'First acting PM of India',\n",
       " \"He has given the slogan of 'Jai Jawan Jai Kisan' during the Indo-Pak war of 1965\",\n",
       " '-',\n",
       " 'First female Prime Minister of India',\n",
       " 'Oldest to become PM (81 years old) and first to resign from office',\n",
       " 'Only PM who did not face the Parliament',\n",
       " 'The first lady who served as PM for the second term',\n",
       " 'Youngest to become PM (40 years old)',\n",
       " 'First PM to step down after a vote of no confidence',\n",
       " 'He belongs to  Samajwadi Janata Party',\n",
       " 'First PM from south India',\n",
       " 'PM for shortest tenure',\n",
       " 'He belongs to  Janata Dal',\n",
       " '------',\n",
       " ' The first non-congress PM who completed a full term as PM',\n",
       " ' First Sikh PM',\n",
       " '4th Prime Minister of India who served two consecutive tenures',\n",
       " 'The first prime minister of India and the longest-serving PM of India, the first to die in office.',\n",
       " 'First acting PM of India',\n",
       " \"He has given the slogan of 'Jai Jawan Jai Kisan' during the Indo-Pak war of 1965\",\n",
       " '-',\n",
       " 'First female Prime Minister of India',\n",
       " 'Oldest to become PM (81 years old) and first to resign from office',\n",
       " 'Only PM who did not face the Parliament',\n",
       " 'The first lady who served as PM for the second term',\n",
       " 'Youngest to become PM (40 years old)',\n",
       " 'First PM to step down after a vote of no confidence',\n",
       " 'He belongs to  Samajwadi Janata Party',\n",
       " 'First PM from south India',\n",
       " 'PM for shortest tenure',\n",
       " 'He belongs to  Janata Dal',\n",
       " '------',\n",
       " ' The first non-congress PM who completed a full term as PM',\n",
       " ' First Sikh PM',\n",
       " '4th Prime Minister of India who served two consecutive tenures']"
      ]
     },
     "execution_count": 286,
     "metadata": {},
     "output_type": "execute_result"
    }
   ],
   "source": [
    "#scraping remarks value from the web page \n",
    "re=driver.find_elements(By.XPATH,'//div[@class=\"table-box\"]/table/tbody/tr/td[5]/p')\n",
    "for i in re[0:50]:\n",
    "    r=i.text\n",
    "    Remarks.append(r)\n",
    "    \n",
    "Remarks"
   ]
  },
  {
   "cell_type": "code",
   "execution_count": 297,
   "id": "0e82b89b",
   "metadata": {},
   "outputs": [],
   "source": [
    "Remarks=Remarks[70:88]"
   ]
  },
  {
   "cell_type": "code",
   "execution_count": 298,
   "id": "4aa6ec07",
   "metadata": {},
   "outputs": [
    {
     "data": {
      "text/plain": [
       "['The first prime minister of India and the longest-serving PM of India, the first to die in office.',\n",
       " 'First acting PM of India',\n",
       " \"He has given the slogan of 'Jai Jawan Jai Kisan' during the Indo-Pak war of 1965\",\n",
       " '-',\n",
       " 'First female Prime Minister of India',\n",
       " 'Oldest to become PM (81 years old) and first to resign from office',\n",
       " 'Only PM who did not face the Parliament',\n",
       " 'The first lady who served as PM for the second term',\n",
       " 'Youngest to become PM (40 years old)',\n",
       " 'First PM to step down after a vote of no confidence',\n",
       " 'He belongs to  Samajwadi Janata Party',\n",
       " 'First PM from south India',\n",
       " 'PM for shortest tenure',\n",
       " 'He belongs to  Janata Dal',\n",
       " '------',\n",
       " ' The first non-congress PM who completed a full term as PM',\n",
       " ' First Sikh PM',\n",
       " '4th Prime Minister of India who served two consecutive tenures']"
      ]
     },
     "execution_count": 298,
     "metadata": {},
     "output_type": "execute_result"
    }
   ],
   "source": [
    "Remarks"
   ]
  },
  {
   "cell_type": "code",
   "execution_count": 319,
   "id": "041f2ad6",
   "metadata": {},
   "outputs": [
    {
     "name": "stdout",
     "output_type": "stream",
     "text": [
      "18 18 18 18\n"
     ]
    }
   ],
   "source": [
    "print(len(Name), len(Remarks), len(Term_of_office), len(Born_dead))"
   ]
  },
  {
   "cell_type": "code",
   "execution_count": 320,
   "id": "ee0036b0",
   "metadata": {},
   "outputs": [
    {
     "data": {
      "text/html": [
       "<div>\n",
       "<style scoped>\n",
       "    .dataframe tbody tr th:only-of-type {\n",
       "        vertical-align: middle;\n",
       "    }\n",
       "\n",
       "    .dataframe tbody tr th {\n",
       "        vertical-align: top;\n",
       "    }\n",
       "\n",
       "    .dataframe thead th {\n",
       "        text-align: right;\n",
       "    }\n",
       "</style>\n",
       "<table border=\"1\" class=\"dataframe\">\n",
       "  <thead>\n",
       "    <tr style=\"text-align: right;\">\n",
       "      <th></th>\n",
       "      <th>Name</th>\n",
       "      <th>Born-Dead</th>\n",
       "      <th>Term Of Office</th>\n",
       "      <th>Remarks</th>\n",
       "    </tr>\n",
       "  </thead>\n",
       "  <tbody>\n",
       "    <tr>\n",
       "      <th>0</th>\n",
       "      <td>Jawahar Lal Nehru</td>\n",
       "      <td>(1889–1964)</td>\n",
       "      <td>15 August 1947 to 27 May 1964</td>\n",
       "      <td>The first prime minister of India and the long...</td>\n",
       "    </tr>\n",
       "    <tr>\n",
       "      <th>1</th>\n",
       "      <td>Gulzarilal Nanda (Acting)</td>\n",
       "      <td>(1898-1998)</td>\n",
       "      <td>27 May 1964 to 9 June 1964,</td>\n",
       "      <td>First acting PM of India</td>\n",
       "    </tr>\n",
       "    <tr>\n",
       "      <th>2</th>\n",
       "      <td>Lal Bahadur Shastri</td>\n",
       "      <td>(1904–1966)</td>\n",
       "      <td>9 June 1964 to 11 January 1966</td>\n",
       "      <td>He has given the slogan of 'Jai Jawan Jai Kisa...</td>\n",
       "    </tr>\n",
       "    <tr>\n",
       "      <th>3</th>\n",
       "      <td>Gulzari Lal Nanda  (Acting)</td>\n",
       "      <td>(1898-1998)</td>\n",
       "      <td>11 January 1966 to 24 January 1966</td>\n",
       "      <td>-</td>\n",
       "    </tr>\n",
       "    <tr>\n",
       "      <th>4</th>\n",
       "      <td>Indira Gandhi</td>\n",
       "      <td>(1917–1984)</td>\n",
       "      <td>24 January 1966 to 24 March 1977</td>\n",
       "      <td>First female Prime Minister of India</td>\n",
       "    </tr>\n",
       "    <tr>\n",
       "      <th>5</th>\n",
       "      <td>Morarji Desai</td>\n",
       "      <td>(1896–1995)</td>\n",
       "      <td>24 March 1977 to  28 July 1979</td>\n",
       "      <td>Oldest to become PM (81 years old) and first t...</td>\n",
       "    </tr>\n",
       "    <tr>\n",
       "      <th>6</th>\n",
       "      <td>Charan Singh</td>\n",
       "      <td>(1902–1987)</td>\n",
       "      <td>28 July 1979 to 14 January 1980</td>\n",
       "      <td>Only PM who did not face the Parliament</td>\n",
       "    </tr>\n",
       "    <tr>\n",
       "      <th>7</th>\n",
       "      <td>Indira Gandhi</td>\n",
       "      <td>(1917–1984)</td>\n",
       "      <td>14 January 1980 to 31 October 1984</td>\n",
       "      <td>The first lady who served as PM for the second...</td>\n",
       "    </tr>\n",
       "    <tr>\n",
       "      <th>8</th>\n",
       "      <td>Rajiv Gandhi</td>\n",
       "      <td>(1944–1991)</td>\n",
       "      <td>31 October 1984 to 2 December 1989</td>\n",
       "      <td>Youngest to become PM (40 years old)</td>\n",
       "    </tr>\n",
       "    <tr>\n",
       "      <th>9</th>\n",
       "      <td>V. P. Singh</td>\n",
       "      <td>(1931–2008)</td>\n",
       "      <td>2 December 1989 to 10 November 1990</td>\n",
       "      <td>First PM to step down after a vote of no confi...</td>\n",
       "    </tr>\n",
       "    <tr>\n",
       "      <th>10</th>\n",
       "      <td>Chandra Shekhar</td>\n",
       "      <td>(1927–2007)</td>\n",
       "      <td>10 November 1990 to 21 June 1991</td>\n",
       "      <td>He belongs to  Samajwadi Janata Party</td>\n",
       "    </tr>\n",
       "    <tr>\n",
       "      <th>11</th>\n",
       "      <td>P. V. Narasimha Rao</td>\n",
       "      <td>(1921–2004)</td>\n",
       "      <td>21 June 1991 to 16 May 1996</td>\n",
       "      <td>First PM from south India</td>\n",
       "    </tr>\n",
       "    <tr>\n",
       "      <th>12</th>\n",
       "      <td>Atal Bihari Vajpayee</td>\n",
       "      <td>(1924- 2018)</td>\n",
       "      <td>16 May 1996 to 1 June 1996</td>\n",
       "      <td>PM for shortest tenure</td>\n",
       "    </tr>\n",
       "    <tr>\n",
       "      <th>13</th>\n",
       "      <td>H. D. Deve Gowda</td>\n",
       "      <td>(born 1933)</td>\n",
       "      <td>1 June 1996 to 21 April 1997</td>\n",
       "      <td>He belongs to  Janata Dal</td>\n",
       "    </tr>\n",
       "    <tr>\n",
       "      <th>14</th>\n",
       "      <td>Inder Kumar Gujral</td>\n",
       "      <td>(1919–2012)</td>\n",
       "      <td>21 April 1997 to 19 March 1998</td>\n",
       "      <td>------</td>\n",
       "    </tr>\n",
       "    <tr>\n",
       "      <th>15</th>\n",
       "      <td>Atal Bihari Vajpayee</td>\n",
       "      <td>(1924-2018)</td>\n",
       "      <td>19 March 1998 to 22 May 2004</td>\n",
       "      <td>The first non-congress PM who completed a ful...</td>\n",
       "    </tr>\n",
       "    <tr>\n",
       "      <th>16</th>\n",
       "      <td>Manmohan Singh</td>\n",
       "      <td>(born 1932)</td>\n",
       "      <td>22 May 2004 to 26 May 2014</td>\n",
       "      <td>First Sikh PM</td>\n",
       "    </tr>\n",
       "    <tr>\n",
       "      <th>17</th>\n",
       "      <td>Narendra Modi</td>\n",
       "      <td>(born 1950)</td>\n",
       "      <td>26 May 2014 - Present</td>\n",
       "      <td>4th Prime Minister of India who served two con...</td>\n",
       "    </tr>\n",
       "  </tbody>\n",
       "</table>\n",
       "</div>"
      ],
      "text/plain": [
       "                           Name     Born-Dead  \\\n",
       "0             Jawahar Lal Nehru   (1889–1964)   \n",
       "1     Gulzarilal Nanda (Acting)   (1898-1998)   \n",
       "2           Lal Bahadur Shastri   (1904–1966)   \n",
       "3   Gulzari Lal Nanda  (Acting)   (1898-1998)   \n",
       "4                 Indira Gandhi   (1917–1984)   \n",
       "5                 Morarji Desai   (1896–1995)   \n",
       "6                  Charan Singh   (1902–1987)   \n",
       "7                 Indira Gandhi   (1917–1984)   \n",
       "8                  Rajiv Gandhi   (1944–1991)   \n",
       "9                   V. P. Singh   (1931–2008)   \n",
       "10              Chandra Shekhar   (1927–2007)   \n",
       "11          P. V. Narasimha Rao   (1921–2004)   \n",
       "12         Atal Bihari Vajpayee  (1924- 2018)   \n",
       "13             H. D. Deve Gowda   (born 1933)   \n",
       "14           Inder Kumar Gujral   (1919–2012)   \n",
       "15         Atal Bihari Vajpayee   (1924-2018)   \n",
       "16               Manmohan Singh   (born 1932)   \n",
       "17                Narendra Modi   (born 1950)   \n",
       "\n",
       "                         Term Of Office  \\\n",
       "0         15 August 1947 to 27 May 1964   \n",
       "1           27 May 1964 to 9 June 1964,   \n",
       "2        9 June 1964 to 11 January 1966   \n",
       "3    11 January 1966 to 24 January 1966   \n",
       "4      24 January 1966 to 24 March 1977   \n",
       "5       24 March 1977 to  28 July 1979    \n",
       "6       28 July 1979 to 14 January 1980   \n",
       "7    14 January 1980 to 31 October 1984   \n",
       "8    31 October 1984 to 2 December 1989   \n",
       "9   2 December 1989 to 10 November 1990   \n",
       "10     10 November 1990 to 21 June 1991   \n",
       "11          21 June 1991 to 16 May 1996   \n",
       "12           16 May 1996 to 1 June 1996   \n",
       "13         1 June 1996 to 21 April 1997   \n",
       "14      21 April 1997 to 19 March 1998    \n",
       "15        19 March 1998 to 22 May 2004    \n",
       "16        22 May 2004 to 26 May 2014      \n",
       "17                26 May 2014 - Present   \n",
       "\n",
       "                                              Remarks  \n",
       "0   The first prime minister of India and the long...  \n",
       "1                            First acting PM of India  \n",
       "2   He has given the slogan of 'Jai Jawan Jai Kisa...  \n",
       "3                                                   -  \n",
       "4                First female Prime Minister of India  \n",
       "5   Oldest to become PM (81 years old) and first t...  \n",
       "6             Only PM who did not face the Parliament  \n",
       "7   The first lady who served as PM for the second...  \n",
       "8                Youngest to become PM (40 years old)  \n",
       "9   First PM to step down after a vote of no confi...  \n",
       "10              He belongs to  Samajwadi Janata Party  \n",
       "11                          First PM from south India  \n",
       "12                             PM for shortest tenure  \n",
       "13                          He belongs to  Janata Dal  \n",
       "14                                             ------  \n",
       "15   The first non-congress PM who completed a ful...  \n",
       "16                                      First Sikh PM  \n",
       "17  4th Prime Minister of India who served two con...  "
      ]
     },
     "execution_count": 320,
     "metadata": {},
     "output_type": "execute_result"
    }
   ],
   "source": [
    "import pandas as pd\n",
    "df=pd.DataFrame({'Name':Name, 'Born-Dead':Born_dead, 'Term Of Office':Term_of_office, 'Remarks':Remarks})\n",
    "df"
   ]
  },
  {
   "cell_type": "code",
   "execution_count": null,
   "id": "a2a312b4",
   "metadata": {},
   "outputs": [],
   "source": []
  },
  {
   "cell_type": "markdown",
   "id": "3d7db6eb",
   "metadata": {},
   "source": [
    "Q10: Write a python program to display list of 50 Most expensive cars in the world (i.e.\n",
    "Car name and Price) from https://www.motor1.com/\n",
    "This task will be done in following steps-\n",
    "\n",
    "1. First get the webpagehttps://www.motor1.com/\n",
    "\n",
    "2. Then You have to click on the List option from Dropdown menu on leftside.\n",
    "\n",
    "3. Then click on 50 most expensive carsin the world..\n",
    "\n",
    "4. Then scrap the mentioned data and make the dataframe."
   ]
  },
  {
   "cell_type": "code",
   "execution_count": 321,
   "id": "bfffaba0",
   "metadata": {},
   "outputs": [],
   "source": [
    "#Connecting to the driver\n",
    "driver=webdriver.Chrome(r\"chromedriver.exe\")"
   ]
  },
  {
   "cell_type": "code",
   "execution_count": 322,
   "id": "7aa2ee30",
   "metadata": {},
   "outputs": [],
   "source": [
    "#opening the naukri page on automated chrome browser\n",
    "driver.get('https://www.motor1.com/')"
   ]
  },
  {
   "cell_type": "code",
   "execution_count": 323,
   "id": "8475cf78",
   "metadata": {},
   "outputs": [],
   "source": [
    "#search for 50 most expensive car in search bar\n",
    "search=driver.find_element(By.XPATH,'/html/body/div[3]/div[2]/div/div/div[3]/div/div/div/form/input')\n",
    "search.send_keys('50 most expensive cars in the world')"
   ]
  },
  {
   "cell_type": "code",
   "execution_count": 324,
   "id": "b1d076d1",
   "metadata": {},
   "outputs": [],
   "source": [
    "button=driver.find_element(By.XPATH,'/html/body/div[3]/div[2]/div/div/div[3]/div/div/div/form/button[1]')\n",
    "button.click()"
   ]
  },
  {
   "cell_type": "code",
   "execution_count": 325,
   "id": "3aeca7ce",
   "metadata": {},
   "outputs": [],
   "source": [
    "expensive_car=driver.find_element(By.XPATH,'/html/body/div[3]/div[9]/div/div[1]/div/div/div[1]/div/div[1]/h3/a')\n",
    "expensive_car.click()"
   ]
  },
  {
   "cell_type": "code",
   "execution_count": 326,
   "id": "94fefb5c",
   "metadata": {},
   "outputs": [],
   "source": [
    "#create list\n",
    "car_name=[]\n",
    "price=[]"
   ]
  },
  {
   "cell_type": "code",
   "execution_count": 327,
   "id": "d40ba584",
   "metadata": {},
   "outputs": [
    {
     "data": {
      "text/plain": [
       "['De Tomaso P72',\n",
       " 'Ferrari LaFerrari',\n",
       " 'Pagani Huayra',\n",
       " 'McLaren Elva',\n",
       " 'Czinger 21C',\n",
       " 'Ferrari Monza',\n",
       " 'Gordon Murray T.33',\n",
       " 'Koenigsegg Gemera',\n",
       " 'Zenvo TSR-S',\n",
       " 'Hennessey Venom F5',\n",
       " 'Bentley Bacalar',\n",
       " 'Hispano Suiza Carmen Boulogne',\n",
       " 'Bentley Mulliner Batur',\n",
       " 'Deus Vayanne',\n",
       " 'SSC Tuatara',\n",
       " 'Lotus Evija',\n",
       " 'Aston Martin Vulcan',\n",
       " 'Delage D12',\n",
       " 'McLaren Speedtail',\n",
       " 'Rimac Nevera',\n",
       " 'Pagani Utopia',\n",
       " 'Pininfarina Battista',\n",
       " 'Ferrari FXX K Evo',\n",
       " 'Gordon Murray T.50',\n",
       " 'Lamborghini Countach',\n",
       " 'Mercedes-AMG Project One',\n",
       " 'Aston Martin Victor',\n",
       " 'Hennessey Venom F5 Roadster',\n",
       " 'Koenigsegg Jesko',\n",
       " 'Aston Martin Valkyrie',\n",
       " 'W Motors Lykan Hypersport',\n",
       " 'McLaren Solus',\n",
       " 'Pagani Huayra Roadster BC',\n",
       " 'Bugatti Chiron Pur Sport',\n",
       " 'Lamborghini Sian',\n",
       " 'Koenigsegg CC850',\n",
       " 'Bugatti Chiron Super Sport 300+',\n",
       " 'Lamborghini Veneno',\n",
       " 'Bugatti Bolide',\n",
       " 'Bugatti Mistral',\n",
       " 'Pagani Huayra Imola',\n",
       " 'Bugatti Divo',\n",
       " 'SP Automotive Chaos',\n",
       " 'Pagani Codalunga',\n",
       " 'Mercedes-Maybach Exelero',\n",
       " 'Bugatti Centodieci',\n",
       " 'Bugatti Chiron Profilée',\n",
       " 'Rolls-Royce Sweptail',\n",
       " 'Bugatti La Voiture Noire',\n",
       " 'Rolls-Royce Boat Tail*']"
      ]
     },
     "execution_count": 327,
     "metadata": {},
     "output_type": "execute_result"
    }
   ],
   "source": [
    "#scraping car name from the web page\n",
    "car=driver.find_elements(By.XPATH,'//h3[@class=\"subheader\"]')\n",
    "for i in car[0:50]:\n",
    "    car=i.text\n",
    "    car_name.append(car)\n",
    "    \n",
    "car_name"
   ]
  },
  {
   "cell_type": "code",
   "execution_count": 341,
   "id": "66952594",
   "metadata": {},
   "outputs": [
    {
     "data": {
      "text/plain": [
       "50"
      ]
     },
     "execution_count": 341,
     "metadata": {},
     "output_type": "execute_result"
    }
   ],
   "source": [
    "len(car_name)"
   ]
  },
  {
   "cell_type": "code",
   "execution_count": 355,
   "id": "aa2d39be",
   "metadata": {},
   "outputs": [
    {
     "data": {
      "text/plain": [
       "['De Tomaso P72',\n",
       " 'Ferrari LaFerrari',\n",
       " 'Pagani Huayra',\n",
       " 'McLaren Elva',\n",
       " 'Czinger 21C',\n",
       " 'Ferrari Monza',\n",
       " 'Gordon Murray T.33',\n",
       " 'Koenigsegg Gemera',\n",
       " 'Zenvo TSR-S',\n",
       " 'Hennessey Venom F5',\n",
       " 'Bentley Bacalar',\n",
       " 'Hispano Suiza Carmen Boulogne',\n",
       " 'Bentley Mulliner Batur',\n",
       " 'Deus Vayanne',\n",
       " 'SSC Tuatara',\n",
       " 'Lotus Evija',\n",
       " 'Aston Martin Vulcan',\n",
       " 'Delage D12',\n",
       " 'McLaren Speedtail',\n",
       " 'Rimac Nevera',\n",
       " 'Pagani Utopia',\n",
       " 'Pininfarina Battista',\n",
       " 'Ferrari FXX K Evo',\n",
       " 'Gordon Murray T.50',\n",
       " 'Lamborghini Countach',\n",
       " 'Mercedes-AMG Project One',\n",
       " 'Aston Martin Victor',\n",
       " 'Hennessey Venom F5 Roadster',\n",
       " 'Koenigsegg Jesko',\n",
       " 'Aston Martin Valkyrie',\n",
       " 'W Motors Lykan Hypersport',\n",
       " 'McLaren Solus',\n",
       " 'Pagani Huayra Roadster BC',\n",
       " 'Bugatti Chiron Pur Sport',\n",
       " 'Lamborghini Sian',\n",
       " 'Koenigsegg CC850',\n",
       " 'Bugatti Chiron Super Sport 300+',\n",
       " 'Lamborghini Veneno',\n",
       " 'Bugatti Bolide',\n",
       " 'Bugatti Mistral',\n",
       " 'Pagani Huayra Imola',\n",
       " 'Bugatti Divo',\n",
       " 'SP Automotive Chaos',\n",
       " 'Pagani Codalunga',\n",
       " 'Mercedes-Maybach Exelero',\n",
       " 'Bugatti Centodieci',\n",
       " 'Bugatti Chiron Profilée',\n",
       " 'Rolls-Royce Sweptail',\n",
       " 'Bugatti La Voiture Noire',\n",
       " 'Rolls-Royce Boat Tail*',\n",
       " 'Price: $1.3 Million',\n",
       " 'Price: $1.4 Million',\n",
       " 'Price: $1.4 Million',\n",
       " '',\n",
       " 'Price: $1.7 Million',\n",
       " 'Price: $1.7 Million',\n",
       " 'Price: $1.7 Million',\n",
       " 'Price: $1.7 Million',\n",
       " 'Price: $1.7 Million',\n",
       " 'Price: $1.7 Million',\n",
       " 'Price: $1.8 Million',\n",
       " 'Price: $1.9 Million',\n",
       " 'Price: $1.9 Million',\n",
       " 'Price: $2.0 Million',\n",
       " 'Price: $2.0 Million',\n",
       " 'Price: $2.0 Million*',\n",
       " 'Price: $2.1 Million',\n",
       " 'Price: $2.3 Million',\n",
       " 'Price: $2.3 Million',\n",
       " 'Price: $2.3 Million',\n",
       " 'Price: $2.4 Million',\n",
       " 'Price: $2.5 Million',\n",
       " 'Price: $2.5 Million',\n",
       " 'Price: $2.6 Million',\n",
       " 'Price: $2.6 Million',\n",
       " 'Price: $2.6 Million',\n",
       " 'Price: $2.7 Million',\n",
       " 'Price: $3.0 Million',\n",
       " '$3.0 Million',\n",
       " 'Price: $3.0 Million',\n",
       " 'Price: $3.2 Million',\n",
       " 'Price: $3.4 Million',\n",
       " '$3.5 Million',\n",
       " 'Price: $3.5 Million',\n",
       " 'Price: $3.6 Million',\n",
       " 'Price: $3.6 million',\n",
       " 'Price: $3.7 Million',\n",
       " 'Price: $3.9 Million',\n",
       " 'Price: $4.5 Million',\n",
       " 'Price: $4.7 Million',\n",
       " 'Price: $5.0 Million',\n",
       " 'Price: $5.4 Million',\n",
       " 'Price: $5.8 Million',\n",
       " 'Price: $6.4 Million',\n",
       " 'Price: $7.4 Million',\n",
       " 'Price: $8.0 Million',\n",
       " 'Price: $9.0 Million',\n",
       " 'Price: $10.8 Million',\n",
       " 'Price: $12.8 Million',\n",
       " 'Price: $13.4 Million',\n",
       " 'Price: $1.3 Million',\n",
       " 'Price: $1.4 Million',\n",
       " 'Price: $1.4 Million',\n",
       " '',\n",
       " 'Price: $1.7 Million',\n",
       " 'Price: $1.7 Million',\n",
       " 'Price: $1.7 Million',\n",
       " 'Price: $1.7 Million',\n",
       " 'Price: $1.7 Million',\n",
       " 'Price: $1.7 Million',\n",
       " 'Price: $1.8 Million',\n",
       " 'Price: $1.9 Million',\n",
       " 'Price: $1.9 Million',\n",
       " 'Price: $2.0 Million',\n",
       " 'Price: $2.0 Million',\n",
       " 'Price: $2.0 Million*',\n",
       " 'Price: $2.1 Million',\n",
       " 'Price: $2.3 Million',\n",
       " 'Price: $2.3 Million',\n",
       " 'Price: $2.3 Million',\n",
       " 'Price: $2.4 Million',\n",
       " 'Price: $2.5 Million',\n",
       " 'Price: $2.5 Million',\n",
       " 'Price: $2.6 Million',\n",
       " 'Price: $2.6 Million',\n",
       " 'Price: $2.6 Million',\n",
       " 'Price: $2.7 Million',\n",
       " 'Price: $3.0 Million',\n",
       " '$3.0 Million',\n",
       " 'Price: $3.0 Million',\n",
       " 'Price: $3.2 Million',\n",
       " 'Price: $3.4 Million',\n",
       " '$3.5 Million',\n",
       " 'Price: $3.5 Million',\n",
       " 'Price: $3.6 Million',\n",
       " 'Price: $3.6 million',\n",
       " 'Price: $3.7 Million',\n",
       " 'Price: $3.9 Million',\n",
       " 'Price: $4.5 Million',\n",
       " 'Price: $4.7 Million',\n",
       " 'Price: $5.0 Million',\n",
       " 'Price: $5.4 Million',\n",
       " 'Price: $5.8 Million',\n",
       " 'Price: $6.4 Million',\n",
       " 'Price: $7.4 Million',\n",
       " 'Price: $8.0 Million',\n",
       " 'Price: $9.0 Million',\n",
       " 'Price: $10.8 Million',\n",
       " 'Price: $12.8 Million',\n",
       " 'Price: $13.4 Million',\n",
       " 'Price: $1.3 Million',\n",
       " 'Price: $1.4 Million',\n",
       " 'Price: $1.4 Million',\n",
       " '',\n",
       " 'Price: $1.7 Million',\n",
       " 'Price: $1.7 Million',\n",
       " 'Price: $1.7 Million',\n",
       " 'Price: $1.7 Million',\n",
       " 'Price: $1.7 Million',\n",
       " 'Price: $1.7 Million',\n",
       " 'Price: $1.8 Million',\n",
       " 'Price: $1.9 Million',\n",
       " 'Price: $1.9 Million',\n",
       " 'Price: $2.0 Million',\n",
       " 'Price: $2.0 Million',\n",
       " 'Price: $2.0 Million*',\n",
       " 'Price: $2.1 Million',\n",
       " 'Price: $2.3 Million',\n",
       " 'Price: $2.3 Million',\n",
       " 'Price: $2.3 Million',\n",
       " 'Price: $2.4 Million',\n",
       " 'Price: $2.5 Million',\n",
       " 'Price: $2.5 Million',\n",
       " 'Price: $2.6 Million',\n",
       " 'Price: $2.6 Million',\n",
       " 'Price: $2.6 Million',\n",
       " 'Price: $2.7 Million',\n",
       " 'Price: $3.0 Million',\n",
       " '$3.0 Million',\n",
       " 'Price: $3.0 Million',\n",
       " 'Price: $3.2 Million',\n",
       " 'Price: $3.4 Million',\n",
       " '$3.5 Million',\n",
       " 'Price: $3.5 Million',\n",
       " 'Price: $3.6 Million',\n",
       " 'Price: $3.6 million',\n",
       " 'Price: $3.7 Million',\n",
       " 'Price: $3.9 Million',\n",
       " 'Price: $4.5 Million',\n",
       " 'Price: $4.7 Million',\n",
       " 'Price: $5.0 Million',\n",
       " 'Price: $5.4 Million',\n",
       " 'Price: $5.8 Million',\n",
       " 'Price: $6.4 Million',\n",
       " 'Price: $7.4 Million',\n",
       " 'Price: $8.0 Million',\n",
       " 'Price: $9.0 Million',\n",
       " 'Price: $10.8 Million',\n",
       " 'Price: $12.8 Million',\n",
       " 'Price: $13.4 Million']"
      ]
     },
     "execution_count": 355,
     "metadata": {},
     "output_type": "execute_result"
    }
   ],
   "source": [
    "#scraping price value from the web page \n",
    "price_tag=driver.find_elements(By.XPATH,\"//p/strong\")\n",
    "for i in price_tag[0:50]:\n",
    "    p=i.text\n",
    "    price.append(p)\n",
    "    \n",
    "price"
   ]
  },
  {
   "cell_type": "code",
   "execution_count": 360,
   "id": "f5208a1f",
   "metadata": {},
   "outputs": [],
   "source": [
    "\n",
    "price=price[50:]"
   ]
  },
  {
   "cell_type": "code",
   "execution_count": 361,
   "id": "99514c25",
   "metadata": {},
   "outputs": [
    {
     "data": {
      "text/plain": [
       "150"
      ]
     },
     "execution_count": 361,
     "metadata": {},
     "output_type": "execute_result"
    }
   ],
   "source": [
    "len(price)"
   ]
  },
  {
   "cell_type": "code",
   "execution_count": 363,
   "id": "7e6f10f6",
   "metadata": {},
   "outputs": [],
   "source": [
    "    \n",
    "price=price[:50]"
   ]
  },
  {
   "cell_type": "code",
   "execution_count": 364,
   "id": "6544efbd",
   "metadata": {},
   "outputs": [
    {
     "data": {
      "text/plain": [
       "50"
      ]
     },
     "execution_count": 364,
     "metadata": {},
     "output_type": "execute_result"
    }
   ],
   "source": [
    "len(price)"
   ]
  },
  {
   "cell_type": "code",
   "execution_count": 365,
   "id": "50665f74",
   "metadata": {},
   "outputs": [
    {
     "data": {
      "text/html": [
       "<div>\n",
       "<style scoped>\n",
       "    .dataframe tbody tr th:only-of-type {\n",
       "        vertical-align: middle;\n",
       "    }\n",
       "\n",
       "    .dataframe tbody tr th {\n",
       "        vertical-align: top;\n",
       "    }\n",
       "\n",
       "    .dataframe thead th {\n",
       "        text-align: right;\n",
       "    }\n",
       "</style>\n",
       "<table border=\"1\" class=\"dataframe\">\n",
       "  <thead>\n",
       "    <tr style=\"text-align: right;\">\n",
       "      <th></th>\n",
       "      <th>Name</th>\n",
       "      <th>price</th>\n",
       "    </tr>\n",
       "  </thead>\n",
       "  <tbody>\n",
       "    <tr>\n",
       "      <th>0</th>\n",
       "      <td>De Tomaso P72</td>\n",
       "      <td>Price: $1.3 Million</td>\n",
       "    </tr>\n",
       "    <tr>\n",
       "      <th>1</th>\n",
       "      <td>Ferrari LaFerrari</td>\n",
       "      <td>Price: $1.4 Million</td>\n",
       "    </tr>\n",
       "    <tr>\n",
       "      <th>2</th>\n",
       "      <td>Pagani Huayra</td>\n",
       "      <td>Price: $1.4 Million</td>\n",
       "    </tr>\n",
       "    <tr>\n",
       "      <th>3</th>\n",
       "      <td>McLaren Elva</td>\n",
       "      <td></td>\n",
       "    </tr>\n",
       "    <tr>\n",
       "      <th>4</th>\n",
       "      <td>Czinger 21C</td>\n",
       "      <td>Price: $1.7 Million</td>\n",
       "    </tr>\n",
       "    <tr>\n",
       "      <th>5</th>\n",
       "      <td>Ferrari Monza</td>\n",
       "      <td>Price: $1.7 Million</td>\n",
       "    </tr>\n",
       "    <tr>\n",
       "      <th>6</th>\n",
       "      <td>Gordon Murray T.33</td>\n",
       "      <td>Price: $1.7 Million</td>\n",
       "    </tr>\n",
       "    <tr>\n",
       "      <th>7</th>\n",
       "      <td>Koenigsegg Gemera</td>\n",
       "      <td>Price: $1.7 Million</td>\n",
       "    </tr>\n",
       "    <tr>\n",
       "      <th>8</th>\n",
       "      <td>Zenvo TSR-S</td>\n",
       "      <td>Price: $1.7 Million</td>\n",
       "    </tr>\n",
       "    <tr>\n",
       "      <th>9</th>\n",
       "      <td>Hennessey Venom F5</td>\n",
       "      <td>Price: $1.7 Million</td>\n",
       "    </tr>\n",
       "    <tr>\n",
       "      <th>10</th>\n",
       "      <td>Bentley Bacalar</td>\n",
       "      <td>Price: $1.8 Million</td>\n",
       "    </tr>\n",
       "    <tr>\n",
       "      <th>11</th>\n",
       "      <td>Hispano Suiza Carmen Boulogne</td>\n",
       "      <td>Price: $1.9 Million</td>\n",
       "    </tr>\n",
       "    <tr>\n",
       "      <th>12</th>\n",
       "      <td>Bentley Mulliner Batur</td>\n",
       "      <td>Price: $1.9 Million</td>\n",
       "    </tr>\n",
       "    <tr>\n",
       "      <th>13</th>\n",
       "      <td>Deus Vayanne</td>\n",
       "      <td>Price: $2.0 Million</td>\n",
       "    </tr>\n",
       "    <tr>\n",
       "      <th>14</th>\n",
       "      <td>SSC Tuatara</td>\n",
       "      <td>Price: $2.0 Million</td>\n",
       "    </tr>\n",
       "    <tr>\n",
       "      <th>15</th>\n",
       "      <td>Lotus Evija</td>\n",
       "      <td>Price: $2.0 Million*</td>\n",
       "    </tr>\n",
       "    <tr>\n",
       "      <th>16</th>\n",
       "      <td>Aston Martin Vulcan</td>\n",
       "      <td>Price: $2.1 Million</td>\n",
       "    </tr>\n",
       "    <tr>\n",
       "      <th>17</th>\n",
       "      <td>Delage D12</td>\n",
       "      <td>Price: $2.3 Million</td>\n",
       "    </tr>\n",
       "    <tr>\n",
       "      <th>18</th>\n",
       "      <td>McLaren Speedtail</td>\n",
       "      <td>Price: $2.3 Million</td>\n",
       "    </tr>\n",
       "    <tr>\n",
       "      <th>19</th>\n",
       "      <td>Rimac Nevera</td>\n",
       "      <td>Price: $2.3 Million</td>\n",
       "    </tr>\n",
       "    <tr>\n",
       "      <th>20</th>\n",
       "      <td>Pagani Utopia</td>\n",
       "      <td>Price: $2.4 Million</td>\n",
       "    </tr>\n",
       "    <tr>\n",
       "      <th>21</th>\n",
       "      <td>Pininfarina Battista</td>\n",
       "      <td>Price: $2.5 Million</td>\n",
       "    </tr>\n",
       "    <tr>\n",
       "      <th>22</th>\n",
       "      <td>Ferrari FXX K Evo</td>\n",
       "      <td>Price: $2.5 Million</td>\n",
       "    </tr>\n",
       "    <tr>\n",
       "      <th>23</th>\n",
       "      <td>Gordon Murray T.50</td>\n",
       "      <td>Price: $2.6 Million</td>\n",
       "    </tr>\n",
       "    <tr>\n",
       "      <th>24</th>\n",
       "      <td>Lamborghini Countach</td>\n",
       "      <td>Price: $2.6 Million</td>\n",
       "    </tr>\n",
       "    <tr>\n",
       "      <th>25</th>\n",
       "      <td>Mercedes-AMG Project One</td>\n",
       "      <td>Price: $2.6 Million</td>\n",
       "    </tr>\n",
       "    <tr>\n",
       "      <th>26</th>\n",
       "      <td>Aston Martin Victor</td>\n",
       "      <td>Price: $2.7 Million</td>\n",
       "    </tr>\n",
       "    <tr>\n",
       "      <th>27</th>\n",
       "      <td>Hennessey Venom F5 Roadster</td>\n",
       "      <td>Price: $3.0 Million</td>\n",
       "    </tr>\n",
       "    <tr>\n",
       "      <th>28</th>\n",
       "      <td>Koenigsegg Jesko</td>\n",
       "      <td>$3.0 Million</td>\n",
       "    </tr>\n",
       "    <tr>\n",
       "      <th>29</th>\n",
       "      <td>Aston Martin Valkyrie</td>\n",
       "      <td>Price: $3.0 Million</td>\n",
       "    </tr>\n",
       "    <tr>\n",
       "      <th>30</th>\n",
       "      <td>W Motors Lykan Hypersport</td>\n",
       "      <td>Price: $3.2 Million</td>\n",
       "    </tr>\n",
       "    <tr>\n",
       "      <th>31</th>\n",
       "      <td>McLaren Solus</td>\n",
       "      <td>Price: $3.4 Million</td>\n",
       "    </tr>\n",
       "    <tr>\n",
       "      <th>32</th>\n",
       "      <td>Pagani Huayra Roadster BC</td>\n",
       "      <td>$3.5 Million</td>\n",
       "    </tr>\n",
       "    <tr>\n",
       "      <th>33</th>\n",
       "      <td>Bugatti Chiron Pur Sport</td>\n",
       "      <td>Price: $3.5 Million</td>\n",
       "    </tr>\n",
       "    <tr>\n",
       "      <th>34</th>\n",
       "      <td>Lamborghini Sian</td>\n",
       "      <td>Price: $3.6 Million</td>\n",
       "    </tr>\n",
       "    <tr>\n",
       "      <th>35</th>\n",
       "      <td>Koenigsegg CC850</td>\n",
       "      <td>Price: $3.6 million</td>\n",
       "    </tr>\n",
       "    <tr>\n",
       "      <th>36</th>\n",
       "      <td>Bugatti Chiron Super Sport 300+</td>\n",
       "      <td>Price: $3.7 Million</td>\n",
       "    </tr>\n",
       "    <tr>\n",
       "      <th>37</th>\n",
       "      <td>Lamborghini Veneno</td>\n",
       "      <td>Price: $3.9 Million</td>\n",
       "    </tr>\n",
       "    <tr>\n",
       "      <th>38</th>\n",
       "      <td>Bugatti Bolide</td>\n",
       "      <td>Price: $4.5 Million</td>\n",
       "    </tr>\n",
       "    <tr>\n",
       "      <th>39</th>\n",
       "      <td>Bugatti Mistral</td>\n",
       "      <td>Price: $4.7 Million</td>\n",
       "    </tr>\n",
       "    <tr>\n",
       "      <th>40</th>\n",
       "      <td>Pagani Huayra Imola</td>\n",
       "      <td>Price: $5.0 Million</td>\n",
       "    </tr>\n",
       "    <tr>\n",
       "      <th>41</th>\n",
       "      <td>Bugatti Divo</td>\n",
       "      <td>Price: $5.4 Million</td>\n",
       "    </tr>\n",
       "    <tr>\n",
       "      <th>42</th>\n",
       "      <td>SP Automotive Chaos</td>\n",
       "      <td>Price: $5.8 Million</td>\n",
       "    </tr>\n",
       "    <tr>\n",
       "      <th>43</th>\n",
       "      <td>Pagani Codalunga</td>\n",
       "      <td>Price: $6.4 Million</td>\n",
       "    </tr>\n",
       "    <tr>\n",
       "      <th>44</th>\n",
       "      <td>Mercedes-Maybach Exelero</td>\n",
       "      <td>Price: $7.4 Million</td>\n",
       "    </tr>\n",
       "    <tr>\n",
       "      <th>45</th>\n",
       "      <td>Bugatti Centodieci</td>\n",
       "      <td>Price: $8.0 Million</td>\n",
       "    </tr>\n",
       "    <tr>\n",
       "      <th>46</th>\n",
       "      <td>Bugatti Chiron Profilée</td>\n",
       "      <td>Price: $9.0 Million</td>\n",
       "    </tr>\n",
       "    <tr>\n",
       "      <th>47</th>\n",
       "      <td>Rolls-Royce Sweptail</td>\n",
       "      <td>Price: $10.8 Million</td>\n",
       "    </tr>\n",
       "    <tr>\n",
       "      <th>48</th>\n",
       "      <td>Bugatti La Voiture Noire</td>\n",
       "      <td>Price: $12.8 Million</td>\n",
       "    </tr>\n",
       "    <tr>\n",
       "      <th>49</th>\n",
       "      <td>Rolls-Royce Boat Tail*</td>\n",
       "      <td>Price: $13.4 Million</td>\n",
       "    </tr>\n",
       "  </tbody>\n",
       "</table>\n",
       "</div>"
      ],
      "text/plain": [
       "                               Name                 price\n",
       "0                     De Tomaso P72   Price: $1.3 Million\n",
       "1                 Ferrari LaFerrari   Price: $1.4 Million\n",
       "2                     Pagani Huayra   Price: $1.4 Million\n",
       "3                      McLaren Elva                      \n",
       "4                       Czinger 21C   Price: $1.7 Million\n",
       "5                     Ferrari Monza   Price: $1.7 Million\n",
       "6                Gordon Murray T.33   Price: $1.7 Million\n",
       "7                 Koenigsegg Gemera   Price: $1.7 Million\n",
       "8                       Zenvo TSR-S   Price: $1.7 Million\n",
       "9                Hennessey Venom F5   Price: $1.7 Million\n",
       "10                  Bentley Bacalar   Price: $1.8 Million\n",
       "11    Hispano Suiza Carmen Boulogne   Price: $1.9 Million\n",
       "12           Bentley Mulliner Batur   Price: $1.9 Million\n",
       "13                     Deus Vayanne   Price: $2.0 Million\n",
       "14                      SSC Tuatara   Price: $2.0 Million\n",
       "15                      Lotus Evija  Price: $2.0 Million*\n",
       "16              Aston Martin Vulcan   Price: $2.1 Million\n",
       "17                       Delage D12   Price: $2.3 Million\n",
       "18                McLaren Speedtail   Price: $2.3 Million\n",
       "19                     Rimac Nevera   Price: $2.3 Million\n",
       "20                    Pagani Utopia   Price: $2.4 Million\n",
       "21             Pininfarina Battista   Price: $2.5 Million\n",
       "22                Ferrari FXX K Evo   Price: $2.5 Million\n",
       "23               Gordon Murray T.50   Price: $2.6 Million\n",
       "24             Lamborghini Countach   Price: $2.6 Million\n",
       "25         Mercedes-AMG Project One   Price: $2.6 Million\n",
       "26              Aston Martin Victor   Price: $2.7 Million\n",
       "27      Hennessey Venom F5 Roadster   Price: $3.0 Million\n",
       "28                 Koenigsegg Jesko          $3.0 Million\n",
       "29            Aston Martin Valkyrie   Price: $3.0 Million\n",
       "30        W Motors Lykan Hypersport   Price: $3.2 Million\n",
       "31                    McLaren Solus   Price: $3.4 Million\n",
       "32        Pagani Huayra Roadster BC          $3.5 Million\n",
       "33         Bugatti Chiron Pur Sport   Price: $3.5 Million\n",
       "34                 Lamborghini Sian   Price: $3.6 Million\n",
       "35                 Koenigsegg CC850   Price: $3.6 million\n",
       "36  Bugatti Chiron Super Sport 300+   Price: $3.7 Million\n",
       "37               Lamborghini Veneno   Price: $3.9 Million\n",
       "38                   Bugatti Bolide   Price: $4.5 Million\n",
       "39                  Bugatti Mistral   Price: $4.7 Million\n",
       "40              Pagani Huayra Imola   Price: $5.0 Million\n",
       "41                     Bugatti Divo   Price: $5.4 Million\n",
       "42              SP Automotive Chaos   Price: $5.8 Million\n",
       "43                 Pagani Codalunga   Price: $6.4 Million\n",
       "44         Mercedes-Maybach Exelero   Price: $7.4 Million\n",
       "45               Bugatti Centodieci   Price: $8.0 Million\n",
       "46          Bugatti Chiron Profilée   Price: $9.0 Million\n",
       "47             Rolls-Royce Sweptail  Price: $10.8 Million\n",
       "48         Bugatti La Voiture Noire  Price: $12.8 Million\n",
       "49           Rolls-Royce Boat Tail*  Price: $13.4 Million"
      ]
     },
     "execution_count": 365,
     "metadata": {},
     "output_type": "execute_result"
    }
   ],
   "source": [
    "import pandas as pd\n",
    "df=pd.DataFrame({'Name':car_name, 'price':price})\n",
    "df"
   ]
  },
  {
   "cell_type": "code",
   "execution_count": null,
   "id": "e3edfc9c",
   "metadata": {},
   "outputs": [],
   "source": []
  }
 ],
 "metadata": {
  "kernelspec": {
   "display_name": "Python 3 (ipykernel)",
   "language": "python",
   "name": "python3"
  },
  "language_info": {
   "codemirror_mode": {
    "name": "ipython",
    "version": 3
   },
   "file_extension": ".py",
   "mimetype": "text/x-python",
   "name": "python",
   "nbconvert_exporter": "python",
   "pygments_lexer": "ipython3",
   "version": "3.9.12"
  }
 },
 "nbformat": 4,
 "nbformat_minor": 5
}
